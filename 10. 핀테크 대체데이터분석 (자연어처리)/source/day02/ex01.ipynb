{
 "cells": [
  {
   "cell_type": "code",
   "execution_count": 1,
   "id": "f126bb62-31c4-4a27-a0e6-cd54cb627506",
   "metadata": {},
   "outputs": [],
   "source": [
    "from nltk.util import pad_sequence\n",
    "from nltk.util import bigrams\n",
    "from nltk.util import ngrams\n",
    "from nltk.util import everygrams"
   ]
  },
  {
   "cell_type": "code",
   "execution_count": 2,
   "id": "814ecdcb-bdf0-4ee2-8ad1-341f612a0e44",
   "metadata": {},
   "outputs": [
    {
     "data": {
      "text/plain": [
       "True"
      ]
     },
     "execution_count": 2,
     "metadata": {},
     "output_type": "execute_result"
    }
   ],
   "source": [
    "import nltk\n",
    "nltk.download(\"all\", quiet=True)"
   ]
  },
  {
   "cell_type": "code",
   "execution_count": 3,
   "id": "e865095f-01b0-4f8e-ac32-0ab2f82c012a",
   "metadata": {},
   "outputs": [],
   "source": [
    "text = [['a', 'b', 'c'], ['a', 'c', 'd', 'c', 'e', 'f']]"
   ]
  },
  {
   "cell_type": "code",
   "execution_count": 5,
   "id": "9a847f46-9ec1-460c-b701-27ee10f269c5",
   "metadata": {},
   "outputs": [
    {
     "data": {
      "text/plain": [
       "[('a', 'b'), ('b', 'c')]"
      ]
     },
     "execution_count": 5,
     "metadata": {},
     "output_type": "execute_result"
    }
   ],
   "source": [
    "list(bigrams(text[0]))"
   ]
  },
  {
   "cell_type": "code",
   "execution_count": 6,
   "id": "29ef3289-c699-444f-b4f5-cac493fde0be",
   "metadata": {},
   "outputs": [
    {
     "data": {
      "text/plain": [
       "[('a', 'c'), ('c', 'd'), ('d', 'c'), ('c', 'e'), ('e', 'f')]"
      ]
     },
     "execution_count": 6,
     "metadata": {},
     "output_type": "execute_result"
    }
   ],
   "source": [
    "list(bigrams(text[1]))"
   ]
  },
  {
   "cell_type": "code",
   "execution_count": 7,
   "id": "db2cb32c-516d-49d8-9b34-b4a03b41ef47",
   "metadata": {},
   "outputs": [
    {
     "data": {
      "text/plain": [
       "[('a', 'c', 'd'), ('c', 'd', 'c'), ('d', 'c', 'e'), ('c', 'e', 'f')]"
      ]
     },
     "execution_count": 7,
     "metadata": {},
     "output_type": "execute_result"
    }
   ],
   "source": [
    "list(ngrams(text[1], n=3))"
   ]
  },
  {
   "cell_type": "code",
   "execution_count": 8,
   "id": "b1c8d51f-d9b9-4dee-a276-acee05d67a7f",
   "metadata": {},
   "outputs": [],
   "source": [
    "#list(everygrams(text[1], n=3))"
   ]
  },
  {
   "cell_type": "code",
   "execution_count": 10,
   "id": "320f3742-920b-4952-b18a-a049df8b7142",
   "metadata": {},
   "outputs": [],
   "source": [
    "# 문장의 시작과 끝에 대한 토큰 추가 pad_sequence\n",
    "padded = list(pad_sequence(text[0], pad_left=True, left_pad_symbol=\"<s>\", pad_right=True, right_pad_symbol=\"</s>\", n=2))"
   ]
  },
  {
   "cell_type": "code",
   "execution_count": 11,
   "id": "07eccad6-7ed3-4668-bc65-c08a64cb3d0b",
   "metadata": {},
   "outputs": [
    {
     "data": {
      "text/plain": [
       "[('<s>', 'a'), ('a', 'b'), ('b', 'c'), ('c', '</s>')]"
      ]
     },
     "execution_count": 11,
     "metadata": {},
     "output_type": "execute_result"
    }
   ],
   "source": [
    "list(ngrams(padded, n=2))"
   ]
  },
  {
   "cell_type": "code",
   "execution_count": 12,
   "id": "b958b017-f95f-4150-a856-303451ba3234",
   "metadata": {},
   "outputs": [],
   "source": [
    "padded = list(pad_sequence(text[1], pad_left=True, left_pad_symbol=\"<s>\", pad_right=True, right_pad_symbol=\"</s>\", n=2))"
   ]
  },
  {
   "cell_type": "code",
   "execution_count": 13,
   "id": "2039789f-1e98-4195-a608-a14e04a8b269",
   "metadata": {},
   "outputs": [
    {
     "data": {
      "text/plain": [
       "['<s>', 'a', 'c', 'd', 'c', 'e', 'f', '</s>']"
      ]
     },
     "execution_count": 13,
     "metadata": {},
     "output_type": "execute_result"
    }
   ],
   "source": [
    "padded"
   ]
  },
  {
   "cell_type": "code",
   "execution_count": 15,
   "id": "cf8fba00-5ede-46f7-b4ec-06ac4cd7b1b2",
   "metadata": {},
   "outputs": [
    {
     "data": {
      "text/plain": [
       "[('<s>',),\n",
       " ('<s>', 'a'),\n",
       " ('<s>', 'a', 'c'),\n",
       " ('a',),\n",
       " ('a', 'c'),\n",
       " ('a', 'c', 'd'),\n",
       " ('c',),\n",
       " ('c', 'd'),\n",
       " ('c', 'd', 'c'),\n",
       " ('d',),\n",
       " ('d', 'c'),\n",
       " ('d', 'c', 'e'),\n",
       " ('c',),\n",
       " ('c', 'e'),\n",
       " ('c', 'e', 'f'),\n",
       " ('e',),\n",
       " ('e', 'f'),\n",
       " ('e', 'f', '</s>'),\n",
       " ('f',),\n",
       " ('f', '</s>'),\n",
       " ('</s>',)]"
      ]
     },
     "execution_count": 15,
     "metadata": {},
     "output_type": "execute_result"
    }
   ],
   "source": [
    "list(everygrams(padded, max_len=3))"
   ]
  },
  {
   "cell_type": "code",
   "execution_count": 16,
   "id": "f1e194ec-ebba-4439-9d77-1f4871513a55",
   "metadata": {},
   "outputs": [],
   "source": [
    "from nltk.lm.preprocessing import pad_both_ends"
   ]
  },
  {
   "cell_type": "code",
   "execution_count": 17,
   "id": "e3dd6fdb-550f-4453-8ea2-592b411f42e2",
   "metadata": {},
   "outputs": [
    {
     "data": {
      "text/plain": [
       "['<s>', 'a', 'b', 'c', '</s>']"
      ]
     },
     "execution_count": 17,
     "metadata": {},
     "output_type": "execute_result"
    }
   ],
   "source": [
    "list(pad_both_ends(text[0], n=2))"
   ]
  },
  {
   "cell_type": "code",
   "execution_count": 18,
   "id": "51d468f5-4066-45e7-ac05-ccd72262efd6",
   "metadata": {},
   "outputs": [
    {
     "data": {
      "text/plain": [
       "[['a', 'b', 'c'], ['a', 'c', 'd', 'c', 'e', 'f']]"
      ]
     },
     "execution_count": 18,
     "metadata": {},
     "output_type": "execute_result"
    }
   ],
   "source": [
    "text"
   ]
  },
  {
   "cell_type": "code",
   "execution_count": 19,
   "id": "a29d3978-9022-4ecf-be60-a13c2f95fa9c",
   "metadata": {},
   "outputs": [
    {
     "data": {
      "text/plain": [
       "[['<s>', 'a', 'b', 'c', '</s>'], ['<s>', 'a', 'c', 'd', 'c', 'e', 'f', '</s>']]"
      ]
     },
     "execution_count": 19,
     "metadata": {},
     "output_type": "execute_result"
    }
   ],
   "source": [
    "# 리스트 컴프리헨션\n",
    "[list(pad_both_ends(sent, n=2)) for sent in text]"
   ]
  },
  {
   "cell_type": "code",
   "execution_count": 20,
   "id": "93caaf2e-382f-49ad-9a87-200340df703c",
   "metadata": {},
   "outputs": [],
   "source": [
    "from nltk.lm.preprocessing import flatten"
   ]
  },
  {
   "cell_type": "code",
   "execution_count": 21,
   "id": "bdf435a6-f9f0-440f-b119-597d240ec8c4",
   "metadata": {},
   "outputs": [
    {
     "data": {
      "text/plain": [
       "['<s>', 'a', 'b', 'c', '</s>', '<s>', 'a', 'c', 'd', 'c', 'e', 'f', '</s>']"
      ]
     },
     "execution_count": 21,
     "metadata": {},
     "output_type": "execute_result"
    }
   ],
   "source": [
    "list(flatten(pad_both_ends(sent, n=2) for sent in text))"
   ]
  },
  {
   "cell_type": "code",
   "execution_count": 22,
   "id": "502826f4-768b-4be8-8bff-a57f34fe6d4f",
   "metadata": {},
   "outputs": [],
   "source": [
    "from nltk.lm.preprocessing import padded_everygram_pipeline"
   ]
  },
  {
   "cell_type": "code",
   "execution_count": 23,
   "id": "3a64f0df-9473-44c6-8c04-c7d274509efc",
   "metadata": {},
   "outputs": [],
   "source": [
    "training_ngrams, padded_sentences = padded_everygram_pipeline(2, text)"
   ]
  },
  {
   "cell_type": "code",
   "execution_count": 25,
   "id": "02228082-4002-46ce-a3d1-68cec9144ab6",
   "metadata": {},
   "outputs": [
    {
     "data": {
      "text/plain": [
       "[<generator object everygrams at 0x0000017572061250>,\n",
       " <generator object everygrams at 0x0000017572061AD0>]"
      ]
     },
     "execution_count": 25,
     "metadata": {},
     "output_type": "execute_result"
    }
   ],
   "source": [
    "list(training_ngrams)"
   ]
  },
  {
   "cell_type": "code",
   "execution_count": 26,
   "id": "f8d50ffc-5a93-4f72-852d-ed24192008ef",
   "metadata": {},
   "outputs": [
    {
     "data": {
      "text/plain": [
       "['<s>', 'a', 'b', 'c', '</s>', '<s>', 'a', 'c', 'd', 'c', 'e', 'f', '</s>']"
      ]
     },
     "execution_count": 26,
     "metadata": {},
     "output_type": "execute_result"
    }
   ],
   "source": [
    "list(padded_sentences)"
   ]
  }
 ],
 "metadata": {
  "kernelspec": {
   "display_name": "Python 3 (ipykernel)",
   "language": "python",
   "name": "python3"
  },
  "language_info": {
   "codemirror_mode": {
    "name": "ipython",
    "version": 3
   },
   "file_extension": ".py",
   "mimetype": "text/x-python",
   "name": "python",
   "nbconvert_exporter": "python",
   "pygments_lexer": "ipython3",
   "version": "3.12.7"
  }
 },
 "nbformat": 4,
 "nbformat_minor": 5
}
