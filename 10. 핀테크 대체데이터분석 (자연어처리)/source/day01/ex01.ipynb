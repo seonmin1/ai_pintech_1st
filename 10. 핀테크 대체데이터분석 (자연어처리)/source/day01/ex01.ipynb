{
 "cells": [
  {
   "cell_type": "code",
   "execution_count": 24,
   "id": "600f69c9-a9ec-4593-82bd-5044660f21c5",
   "metadata": {},
   "outputs": [
    {
     "name": "stdout",
     "output_type": "stream",
     "text": [
      "Requirement already satisfied: nltk in d:\\mldl\\lib\\site-packages (3.9.1)\n",
      "Requirement already satisfied: click in d:\\mldl\\lib\\site-packages (from nltk) (8.1.8)\n",
      "Requirement already satisfied: joblib in d:\\mldl\\lib\\site-packages (from nltk) (1.4.2)\n",
      "Requirement already satisfied: regex>=2021.8.3 in d:\\mldl\\lib\\site-packages (from nltk) (2024.11.6)\n",
      "Requirement already satisfied: tqdm in d:\\mldl\\lib\\site-packages (from nltk) (4.67.1)\n",
      "Requirement already satisfied: colorama in c:\\users\\admin\\appdata\\roaming\\python\\python312\\site-packages (from click->nltk) (0.4.6)\n"
     ]
    }
   ],
   "source": [
    "# 토크나이징\n",
    "# nltk\n",
    "!pip install nltk"
   ]
  },
  {
   "cell_type": "code",
   "execution_count": 25,
   "id": "f4c18c97-157e-4f5e-b0c2-5fde94766212",
   "metadata": {},
   "outputs": [
    {
     "data": {
      "text/plain": [
       "True"
      ]
     },
     "execution_count": 25,
     "metadata": {},
     "output_type": "execute_result"
    }
   ],
   "source": [
    "import nltk\n",
    "nltk.download(\"all\", quiet=True)"
   ]
  },
  {
   "cell_type": "code",
   "execution_count": 26,
   "id": "b665a933-2ba1-4321-8587-73fa1ed65999",
   "metadata": {},
   "outputs": [
    {
     "name": "stdout",
     "output_type": "stream",
     "text": [
      "['사과', ',', '배', ',', '오렌지', ',', '나는', '3개의', '사과를', '구입했다', '.']\n"
     ]
    }
   ],
   "source": [
    "# word_tokenize : 단어 단위로 토큰 분리, sent_tokenize : 문장 단위로 토큰 분리\n",
    "from nltk.tokenize import word_tokenize\n",
    "\n",
    "# text = \"apple, pear, orange, I bought 3 apples.\"\n",
    "text = \"사과, 배, 오렌지, 나는 3개의 사과를 구입했다.\"\n",
    "print(word_tokenize(text))"
   ]
  },
  {
   "cell_type": "code",
   "execution_count": 27,
   "id": "e0a6992a-5a64-4c5b-8e8b-580fe5a24afc",
   "metadata": {},
   "outputs": [
    {
     "name": "stdout",
     "output_type": "stream",
     "text": [
      "['삼성전자의 뒤를 이어 KT(1218억원), 쿠팡(660억원)도 지난해와 순위가 같았다.', '나머지 기업들은 10위 권 내에서 순위 변동이 있었다.', '지난해까지 4위와 5위였던 SK하이닉스와 SK텔레콤은 각각 6위와 7위로 밀려났고, 그 자리는 삼성SDS와 LG U+가 차지했다.', '정보 보호 전담 인력은 삼성전자, KT, 삼성SDS 순으로 많았다.', '공시 대상 기업 전체의 올해 정보 보호 투자액은 2조1196억원, 전담 인력은 7681.4명으로 지난해보다 각각 15.7%, 13.9% 증가했다.', '평균 투자액(29억원)과 평균 전담 인력(10.5명)도 지난해보다 늘었다.', '정보 보호에 대한 기업의 사회적 책임이 강조됨에 따라 자율 공시 기업의 수도 지난해 63개에서 91개로 늘었다.', '업종별 평균 투자액은 금융업(76억원), 정보통신업(59억원), 도소매업(27억원) 순으로 많았다.', '류제명 과학기술정보통신부 네트워크정책실장은 \"정보보호 공시 제도가 기업의 정보보호 수준 제고에 기여하고 있음을 기업들의 자발적인 정보보호 투자 확대를 통해 확인할 수 있었다\"며 \"정부는 공시 내용 검증을 통해 정확한 정보를 이용자에게 제공할 것\"이라고 말했다.']\n"
     ]
    }
   ],
   "source": [
    "from nltk.tokenize import sent_tokenize\n",
    "\n",
    "text = \"\"\"삼성전자의 뒤를 이어 KT(1218억원), 쿠팡(660억원)도 지난해와 순위가 같았다. 나머지 기업들은 10위 권 내에서 순위 변동이 있었다. 지난해까지 4위와 5위였던 SK하이닉스와 SK텔레콤은 각각 6위와 7위로 밀려났고, 그 자리는 삼성SDS와 LG U+가 차지했다.\n",
    "\n",
    "정보 보호 전담 인력은 삼성전자, KT, 삼성SDS 순으로 많았다. 공시 대상 기업 전체의 올해 정보 보호 투자액은 2조1196억원, 전담 인력은 7681.4명으로 지난해보다 각각 15.7%, 13.9% 증가했다. 평균 투자액(29억원)과 평균 전담 인력(10.5명)도 지난해보다 늘었다.\n",
    "\n",
    "정보 보호에 대한 기업의 사회적 책임이 강조됨에 따라 자율 공시 기업의 수도 지난해 63개에서 91개로 늘었다.\n",
    "\n",
    "업종별 평균 투자액은 금융업(76억원), 정보통신업(59억원), 도소매업(27억원) 순으로 많았다.\n",
    "\n",
    "류제명 과학기술정보통신부 네트워크정책실장은 \"정보보호 공시 제도가 기업의 정보보호 수준 제고에 기여하고 있음을 기업들의 자발적인 정보보호 투자 확대를 통해 확인할 수 있었다\"며 \"정부는 공시 내용 검증을 통해 정확한 정보를 이용자에게 제공할 것\"이라고 말했다.\"\"\"\n",
    "\n",
    "print(sent_tokenize(text))"
   ]
  },
  {
   "cell_type": "code",
   "execution_count": 28,
   "id": "94f590ad-dc51-4b3a-a5cb-857f569c84dd",
   "metadata": {},
   "outputs": [],
   "source": [
    "# 원핫인코딩\n",
    "from sklearn.preprocessing import LabelEncoder"
   ]
  },
  {
   "cell_type": "code",
   "execution_count": 29,
   "id": "c6887f31-fa05-4ad8-a050-d05d389858d2",
   "metadata": {},
   "outputs": [
    {
     "name": "stdout",
     "output_type": "stream",
     "text": [
      "{'포도', '사과', '오렌지', '배'}\n"
     ]
    }
   ],
   "source": [
    "data = [\"사과\", \"배\", \"사과\", \"오렌지\", \"포도\", \"배\", \"사과\"]\n",
    "print(set(data))"
   ]
  },
  {
   "cell_type": "code",
   "execution_count": 30,
   "id": "57a30aad-c5e2-4f8f-991e-1015a2d2c591",
   "metadata": {},
   "outputs": [],
   "source": [
    "import numpy as np"
   ]
  },
  {
   "cell_type": "code",
   "execution_count": 31,
   "id": "812598af-c28e-4188-9c65-689f55b5c1e6",
   "metadata": {},
   "outputs": [
    {
     "name": "stdout",
     "output_type": "stream",
     "text": [
      "['사과' '배' '사과' '오렌지' '포도' '배' '사과']\n"
     ]
    }
   ],
   "source": [
    "values = np.array(data)\n",
    "print(values)"
   ]
  },
  {
   "cell_type": "code",
   "execution_count": 32,
   "id": "dab3a6b1-c7fc-4ad0-a2a9-da0869c83d5e",
   "metadata": {},
   "outputs": [],
   "source": [
    "# 레이블 인코딩\n",
    "label_encoder = LabelEncoder() # 데이터 -> int, int 순서 -> 데이터\n",
    "# fit(...) : 기준, transform(..) : 변환\n",
    "#fit_transform(..) : fit() + transform()\n",
    "integer_encoded = label_encoder.fit_transform(values)"
   ]
  },
  {
   "cell_type": "code",
   "execution_count": 33,
   "id": "02bf2997-9d7c-4f72-b3a0-28b5a149ee00",
   "metadata": {},
   "outputs": [
    {
     "name": "stdout",
     "output_type": "stream",
     "text": [
      "{'포도', '사과', '오렌지', '배'}\n"
     ]
    },
    {
     "data": {
      "text/plain": [
       "array([1, 0, 1, 2, 3, 0, 1], dtype=int64)"
      ]
     },
     "execution_count": 33,
     "metadata": {},
     "output_type": "execute_result"
    }
   ],
   "source": [
    "print(set(data))\n",
    "integer_encoded"
   ]
  },
  {
   "cell_type": "code",
   "execution_count": 37,
   "id": "35504fea-1a0e-454f-a122-ef2c9caeca96",
   "metadata": {},
   "outputs": [
    {
     "name": "stdout",
     "output_type": "stream",
     "text": [
      "[[1]\n",
      " [0]\n",
      " [1]\n",
      " [2]\n",
      " [3]\n",
      " [0]\n",
      " [1]]\n",
      "<built-in method reshape of numpy.ndarray object at 0x000002278D3C7CF0>\n"
     ]
    }
   ],
   "source": [
    "integer_encoded = integer_encoded.reshape(-1, 1)\n",
    "print(integer_encoded)\n",
    "print(integer_encoded.reshape)"
   ]
  },
  {
   "cell_type": "code",
   "execution_count": 38,
   "id": "0b71309c-0cc4-44d8-a30a-06cf7e8e5f40",
   "metadata": {},
   "outputs": [
    {
     "name": "stdout",
     "output_type": "stream",
     "text": [
      "[[0. 1. 0. 0.]\n",
      " [1. 0. 0. 0.]\n",
      " [0. 1. 0. 0.]\n",
      " [0. 0. 1. 0.]\n",
      " [0. 0. 0. 1.]\n",
      " [1. 0. 0. 0.]\n",
      " [0. 1. 0. 0.]]\n"
     ]
    }
   ],
   "source": [
    "from sklearn.preprocessing import OneHotEncoder\n",
    "onehot_encoder = OneHotEncoder(sparse_output=False)\n",
    "onehot_encoded = onehot_encoder.fit_transform(integer_encoded)\n",
    "print(onehot_encoded)"
   ]
  },
  {
   "cell_type": "code",
   "execution_count": 44,
   "id": "3a417abd-88d8-4696-a2a1-4bbc3cfdd0f6",
   "metadata": {},
   "outputs": [
    {
     "name": "stdout",
     "output_type": "stream",
     "text": [
      "['오렌지']\n"
     ]
    }
   ],
   "source": [
    "# LabelEncoder : invert_transform - 원핫인코딩된 값 -> 원래 범주\n",
    "# numpy.argmax(...) : 가장 큰 값의 인덱스 번호\n",
    "\n",
    "inverted = label_encoder.inverse_transform([2])\n",
    "print(inverted)"
   ]
  },
  {
   "cell_type": "code",
   "execution_count": 46,
   "id": "c6534ddc-595c-453d-a8df-1bcfedf1462f",
   "metadata": {},
   "outputs": [
    {
     "name": "stdout",
     "output_type": "stream",
     "text": [
      "['사과']\n"
     ]
    }
   ],
   "source": [
    "inverted = label_encoder.inverse_transform([onehot_encoded[6, :].argmax()])\n",
    "print(inverted)"
   ]
  }
 ],
 "metadata": {
  "kernelspec": {
   "display_name": "Python 3 (ipykernel)",
   "language": "python",
   "name": "python3"
  },
  "language_info": {
   "codemirror_mode": {
    "name": "ipython",
    "version": 3
   },
   "file_extension": ".py",
   "mimetype": "text/x-python",
   "name": "python",
   "nbconvert_exporter": "python",
   "pygments_lexer": "ipython3",
   "version": "3.12.7"
  }
 },
 "nbformat": 4,
 "nbformat_minor": 5
}
