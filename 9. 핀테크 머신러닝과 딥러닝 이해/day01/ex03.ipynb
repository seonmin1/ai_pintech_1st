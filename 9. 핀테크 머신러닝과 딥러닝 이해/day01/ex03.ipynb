{
 "cells": [
  {
   "cell_type": "code",
   "execution_count": 1,
   "id": "325e2f67-3c96-47e6-b7f1-6e67da76200a",
   "metadata": {},
   "outputs": [],
   "source": [
    "import numpy as np"
   ]
  },
  {
   "cell_type": "code",
   "execution_count": 3,
   "id": "240363a8-8891-44b1-ad26-e3f46a098a82",
   "metadata": {},
   "outputs": [
    {
     "name": "stdout",
     "output_type": "stream",
     "text": [
      "[10 20 30 40]\n"
     ]
    }
   ],
   "source": [
    "# 브로드 캐스팅\n",
    "nums = np.array([10, 20, 30, 40])\n",
    "print(nums)"
   ]
  },
  {
   "cell_type": "code",
   "execution_count": 5,
   "id": "c819b56f-8519-4e0a-bbbd-38bd7dd1f8e7",
   "metadata": {},
   "outputs": [
    {
     "name": "stdout",
     "output_type": "stream",
     "text": [
      "[20 40 60 80]\n"
     ]
    }
   ],
   "source": [
    "nums2 = nums * 2\n",
    "print(nums2)"
   ]
  },
  {
   "cell_type": "code",
   "execution_count": 6,
   "id": "b71220d2-5580-4adc-96eb-120fa832cef6",
   "metadata": {},
   "outputs": [
    {
     "name": "stdout",
     "output_type": "stream",
     "text": [
      "[ 5 15 25 35]\n"
     ]
    }
   ],
   "source": [
    "nums3 = nums - 5\n",
    "print(nums3)"
   ]
  },
  {
   "cell_type": "code",
   "execution_count": 8,
   "id": "dfa3fa06-7dfa-428d-993d-a0d9fb9928da",
   "metadata": {},
   "outputs": [
    {
     "name": "stdout",
     "output_type": "stream",
     "text": [
      "[[ 10   1 100]\n",
      " [ 20   2 200]\n",
      " [ 30   3 300]]\n"
     ]
    }
   ],
   "source": [
    "data = np.column_stack(([10, 20, 30], [1, 2, 3], [100, 200, 300]))\n",
    "print(data)"
   ]
  }
 ],
 "metadata": {
  "kernelspec": {
   "display_name": "Python 3 (ipykernel)",
   "language": "python",
   "name": "python3"
  },
  "language_info": {
   "codemirror_mode": {
    "name": "ipython",
    "version": 3
   },
   "file_extension": ".py",
   "mimetype": "text/x-python",
   "name": "python",
   "nbconvert_exporter": "python",
   "pygments_lexer": "ipython3",
   "version": "3.12.7"
  }
 },
 "nbformat": 4,
 "nbformat_minor": 5
}
