{
 "cells": [
  {
   "cell_type": "code",
   "execution_count": 1,
   "id": "32ca2609-4874-42cb-88b9-9964aa77ce53",
   "metadata": {},
   "outputs": [],
   "source": [
    "import re"
   ]
  },
  {
   "cell_type": "code",
   "execution_count": 2,
   "id": "670336ce-ed21-452e-9897-b3864b5300de",
   "metadata": {},
   "outputs": [],
   "source": [
    "data = \"\"\"\n",
    "이이름 010-1000-1000\n",
    "김이름 010-2000-2000\n",
    "\"\"\""
   ]
  },
  {
   "cell_type": "code",
   "execution_count": 4,
   "id": "dc4dff8e-9ffd-4920-aaf1-33665b27ad71",
   "metadata": {},
   "outputs": [
    {
     "name": "stdout",
     "output_type": "stream",
     "text": [
      "['이이름 010-1000-1000', '김이름 010-2000-2000']\n"
     ]
    }
   ],
   "source": [
    "p = re.compile(r\"[a-zA-Zㄱ-ㅎ가-힣]+\\s01[016]\\D*\\d{3,4}\\D*\\d{4}\")\n",
    "print(p.findall(data))"
   ]
  },
  {
   "cell_type": "code",
   "execution_count": 5,
   "id": "d8fc6ba3-b17b-4ba7-8573-57cd9b84974c",
   "metadata": {},
   "outputs": [],
   "source": [
    "p = re.compile(r\"([a-zA-Zㄱ-ㅎ가-힣]+)\\s(01[016]\\D*\\d{3,4}\\D*\\d{4})\")"
   ]
  },
  {
   "cell_type": "code",
   "execution_count": 6,
   "id": "f3c5ece1-040c-4fed-92ac-a6c7a1ee5b60",
   "metadata": {},
   "outputs": [
    {
     "name": "stdout",
     "output_type": "stream",
     "text": [
      "이이름 010-1000-1000\n",
      "이이름\n",
      "010-1000-1000\n",
      "김이름 010-2000-2000\n",
      "김이름\n",
      "010-2000-2000\n"
     ]
    }
   ],
   "source": [
    "for m in p.finditer(data):\n",
    "    print(m.group()) # 전체 패턴에 매칭되는 문자열 \n",
    "    print(m.group(1)) # 첫번째 그룹에 매칭되는 문자열 \n",
    "    print(m.group(2)) # 두번째 그룹에 매칭되는 문자열 "
   ]
  },
  {
   "cell_type": "code",
   "execution_count": 14,
   "id": "986c1285-595c-41ca-84f0-9628ba39c649",
   "metadata": {},
   "outputs": [
    {
     "name": "stdout",
     "output_type": "stream",
     "text": [
      "\n",
      "010-1000-1000 이이름\n",
      "010-2000-2000 김이름\n",
      "\n"
     ]
    }
   ],
   "source": [
    "p = re.compile(r\"([a-zA-Zㄱ-ㅎ가-힣]+)\\s(01[016]\\D*\\d{3,4}\\D*\\d{4})\") # \\g<1> : 첫번째 그룹, \\g<2> : 두번째 그룹\n",
    "a = p.sub(r\"\\g<2> \\g<1>\", data) # 그룹1번과 그룹2번을 치환\n",
    "print(a)"
   ]
  },
  {
   "cell_type": "code",
   "execution_count": 16,
   "id": "ea35441b-86a6-48b6-8aab-d89c6b6e649a",
   "metadata": {},
   "outputs": [
    {
     "name": "stdout",
     "output_type": "stream",
     "text": [
      "\n",
      "010-1000-1000 : 이이름\n",
      "010-2000-2000 : 김이름\n",
      "\n"
     ]
    }
   ],
   "source": [
    "p = re.compile(r\"(?P<name>[a-zA-Zㄱ-ㅎ가-힣]+)\\s(?P<phone>01[016]\\D*\\d{3,4}\\D*\\d{4})\") # ?P<name> : name이라는 이름의 그룹\n",
    "a = p.sub(r\"\\g<phone> : \\g<name>\", data) # 그룹명을 사용한 치환 \n",
    "print(a)"
   ]
  },
  {
   "cell_type": "code",
   "execution_count": 11,
   "id": "c3ed32b2-89ea-4740-be8d-50d7ff59ef3f",
   "metadata": {},
   "outputs": [],
   "source": [
    "a = \"111 ab ab 222\""
   ]
  },
  {
   "cell_type": "code",
   "execution_count": 13,
   "id": "fd77628e-66f7-40bb-aaf8-eeda1b71372c",
   "metadata": {},
   "outputs": [
    {
     "data": {
      "text/plain": [
       "<re.Match object; span=(4, 9), match='ab ab'>"
      ]
     },
     "execution_count": 13,
     "metadata": {},
     "output_type": "execute_result"
    }
   ],
   "source": [
    "p = re.compile(r\"(ab)\\s\\1\") # \\1 : (ab) -> 1번 그룹과 동일한 패턴! \n",
    "p.search(a)"
   ]
  }
 ],
 "metadata": {
  "kernelspec": {
   "display_name": "Python 3 (ipykernel)",
   "language": "python",
   "name": "python3"
  },
  "language_info": {
   "codemirror_mode": {
    "name": "ipython",
    "version": 3
   },
   "file_extension": ".py",
   "mimetype": "text/x-python",
   "name": "python",
   "nbconvert_exporter": "python",
   "pygments_lexer": "ipython3",
   "version": "3.12.7"
  }
 },
 "nbformat": 4,
 "nbformat_minor": 5
}
