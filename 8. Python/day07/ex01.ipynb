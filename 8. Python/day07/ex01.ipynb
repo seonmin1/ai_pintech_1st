{
 "cells": [
  {
   "cell_type": "code",
   "execution_count": 3,
   "id": "50ec2e7a-6d76-43b7-8277-5293c8705bc1",
   "metadata": {},
   "outputs": [],
   "source": [
    "# . : 줄 개행 문자(\\n)를 제외한 모든 문자\n",
    "import re\n",
    "p = re.compile(\"a.b\")\n",
    "# p.match(\"a1b\")\n",
    "p.match(\"a\\nb\") # .은 줄개행문자(\\n) 제외한 모든 문자 1자 이므로 매칭 안됨"
   ]
  },
  {
   "cell_type": "code",
   "execution_count": 6,
   "id": "277f5370-3d39-425b-8905-36576922fc7f",
   "metadata": {},
   "outputs": [
    {
     "data": {
      "text/plain": [
       "<re.Match object; span=(0, 3), match='a\\nb'>"
      ]
     },
     "execution_count": 6,
     "metadata": {},
     "output_type": "execute_result"
    }
   ],
   "source": [
    "# re.DOTALL : .이 줄개행 문자(\\n)도 포함한 모든 문자 1개 \n",
    "# p = re.compile(\"a.b\", re.DOTALL)\n",
    "p = re.compile(\"a.b\", re.S) # 위와 동일한 식, re.DOTALL == re.S\n",
    "p.match(\"a\\nb\")"
   ]
  },
  {
   "cell_type": "code",
   "execution_count": 10,
   "id": "46a5a6b5-ae97-4c7d-b0c3-ca24b84b1ca6",
   "metadata": {},
   "outputs": [],
   "source": [
    "p = re.compile(\"[a-z]+\") # 알파벳 소문자\n",
    "# p.match(\"python\") - 매칭됨\n",
    "# p.match(\"Python\") - 매칭안됨"
   ]
  },
  {
   "cell_type": "code",
   "execution_count": 14,
   "id": "fa1b960d-3813-47bd-a48c-68a3ff235878",
   "metadata": {},
   "outputs": [
    {
     "data": {
      "text/plain": [
       "<re.Match object; span=(0, 6), match='Python'>"
      ]
     },
     "execution_count": 14,
     "metadata": {},
     "output_type": "execute_result"
    }
   ],
   "source": [
    "p = re.compile(\"[a-z]+\", re.IGNORECASE) # 알파벳 대소문자 구분 X\n",
    "p = re.compile(\"[a-z]+\", re.I) # 위와 동일한 식, re.IGNORECASE == re.I\n",
    "p.match(\"python\")\n",
    "p.match(\"Python\") "
   ]
  },
  {
   "cell_type": "code",
   "execution_count": 21,
   "id": "f6edcd5a-8d8d-4d6c-9a82-6f81aadb9855",
   "metadata": {},
   "outputs": [
    {
     "name": "stdout",
     "output_type": "stream",
     "text": [
      "['python one12_', 'python two', 'python three']\n"
     ]
    }
   ],
   "source": [
    "str = \"\"\"python one12_\n",
    "life is short\n",
    "python two\n",
    "you need python\n",
    "python three\"\"\"\n",
    "# p = re.compile(r\"^python\\s\\w+\") # 전체 하나의 문장으로 체크 / \\w == [a-zA-Z0-9] : 영어단어 한개\n",
    "# p = re.compile(r\"^python\\s\\w+\", re.MULTILINE) # 각각의 행별로 ^(시작), $(끝) 패턴\n",
    "p = re.compile(r\"^python\\s\\w+\", re.M) # 위와 동일한 식 \n",
    "items = p.findall(str)\n",
    "print(items)"
   ]
  },
  {
   "cell_type": "code",
   "execution_count": 27,
   "id": "25526d15-e882-4970-a4b9-d41c8fb85f7d",
   "metadata": {},
   "outputs": [
    {
     "data": {
      "text/plain": [
       "<re.Match object; span=(0, 5), match='ab cd'>"
      ]
     },
     "execution_count": 27,
     "metadata": {},
     "output_type": "execute_result"
    }
   ],
   "source": [
    "# p = re.compile(\"ab\\\\scd\") # \\s -> s (역슬래시 제거되고 s만 남음) \\s 사용하려면 \\\\s 으로 써야 함 (이스케이프 문자)\n",
    "p = re.compile(r\"ab\\scd\") # 위와 동일한 식 \n",
    "p.match(\"ab cd\")"
   ]
  }
 ],
 "metadata": {
  "kernelspec": {
   "display_name": "Python 3 (ipykernel)",
   "language": "python",
   "name": "python3"
  },
  "language_info": {
   "codemirror_mode": {
    "name": "ipython",
    "version": 3
   },
   "file_extension": ".py",
   "mimetype": "text/x-python",
   "name": "python",
   "nbconvert_exporter": "python",
   "pygments_lexer": "ipython3",
   "version": "3.12.7"
  }
 },
 "nbformat": 4,
 "nbformat_minor": 5
}
