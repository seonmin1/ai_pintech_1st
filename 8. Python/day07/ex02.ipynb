{
 "cells": [
  {
   "cell_type": "code",
   "execution_count": 1,
   "id": "eeef58c1-3509-4521-9a77-073ad8cdd345",
   "metadata": {},
   "outputs": [],
   "source": [
    "import re"
   ]
  },
  {
   "cell_type": "code",
   "execution_count": 3,
   "id": "bf4591bc-6d37-45a6-8373-7c0169ad4cfe",
   "metadata": {},
   "outputs": [],
   "source": [
    "p = re.compile(\"Apple|orange|melon\") # apple 또는 orange 또는 melon\n",
    "p.search(\"three orange\")\n",
    "p.search(\"three mango\")"
   ]
  },
  {
   "cell_type": "code",
   "execution_count": 9,
   "id": "7cfdc348-b22b-4534-99cf-1885e7e3f58f",
   "metadata": {},
   "outputs": [
    {
     "data": {
      "text/plain": [
       "<re.Match object; span=(0, 13), match='010.1000.1000'>"
      ]
     },
     "execution_count": 9,
     "metadata": {},
     "output_type": "execute_result"
    }
   ],
   "source": [
    "p = re.compile(r\"^01[016]\\D*\\d{3,4}\\D*\\d{4}$\") # 01로 반드시 시작하고 숫자 4자리로 반드시 끝나는 패턴 \n",
    "p.search(\"010.1000.1000\")"
   ]
  },
  {
   "cell_type": "code",
   "execution_count": 13,
   "id": "5ba7d896-83bb-4795-b89e-7f41b3205c37",
   "metadata": {},
   "outputs": [
    {
     "data": {
      "text/plain": [
       "<re.Match object; span=(0, 5), match='class'>"
      ]
     },
     "execution_count": 13,
     "metadata": {},
     "output_type": "execute_result"
    }
   ],
   "source": [
    "p = re.compile(r\"\\bclass\\b\") # class 단어 \\b는 class 단어의 경계선\n",
    "p.search(\"my class is over 6pm\")\n",
    "p.search(\"class is over 6pm\")"
   ]
  },
  {
   "cell_type": "code",
   "execution_count": 16,
   "id": "cd83055a-686a-4d1a-a46a-41b6efdb3206",
   "metadata": {},
   "outputs": [
    {
     "data": {
      "text/plain": [
       "<re.Match object; span=(6, 11), match='class'>"
      ]
     },
     "execution_count": 16,
     "metadata": {},
     "output_type": "execute_result"
    }
   ],
   "source": [
    "p = re.compile(r\"\\Bclass\\b\")\n",
    "p.search(\"my subclass is over 6pm\")"
   ]
  },
  {
   "cell_type": "code",
   "execution_count": 20,
   "id": "da3a5440-42c7-41b0-9428-82cbc0b423a8",
   "metadata": {},
   "outputs": [
    {
     "data": {
      "text/plain": [
       "<re.Match object; span=(0, 6), match='ABCABC'>"
      ]
     },
     "execution_count": 20,
     "metadata": {},
     "output_type": "execute_result"
    }
   ],
   "source": [
    "p = re.compile(\"(ABC){2}\") # ABC 패턴이 2번 반복되는지 체크\n",
    "p.search(\"ABCABCABC\")"
   ]
  },
  {
   "cell_type": "code",
   "execution_count": null,
   "id": "2e7134ef-221b-49ad-9594-4be80f67f1fe",
   "metadata": {},
   "outputs": [],
   "source": []
  }
 ],
 "metadata": {
  "kernelspec": {
   "display_name": "Python 3 (ipykernel)",
   "language": "python",
   "name": "python3"
  },
  "language_info": {
   "codemirror_mode": {
    "name": "ipython",
    "version": 3
   },
   "file_extension": ".py",
   "mimetype": "text/x-python",
   "name": "python",
   "nbconvert_exporter": "python",
   "pygments_lexer": "ipython3",
   "version": "3.12.7"
  }
 },
 "nbformat": 4,
 "nbformat_minor": 5
}
