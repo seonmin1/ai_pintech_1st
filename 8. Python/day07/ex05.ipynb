{
 "cells": [
  {
   "cell_type": "code",
   "execution_count": 1,
   "id": "bd6df19f-4781-4246-a97a-d895248a88bc",
   "metadata": {},
   "outputs": [],
   "source": [
    "import re\n",
    "url = \"http://www.naver.com\""
   ]
  },
  {
   "cell_type": "code",
   "execution_count": 2,
   "id": "6ed63946-6b02-47e6-823e-1fa2d9b443d8",
   "metadata": {},
   "outputs": [
    {
     "data": {
      "text/plain": [
       "<re.Match object; span=(0, 7), match='http://'>"
      ]
     },
     "execution_count": 2,
     "metadata": {},
     "output_type": "execute_result"
    }
   ],
   "source": [
    "p = re.compile(r\"http[s]?://\")\n",
    "p.match(url)"
   ]
  },
  {
   "cell_type": "code",
   "execution_count": 3,
   "id": "dfeb6966-d7e1-4a16-af67-f7e094f83b67",
   "metadata": {},
   "outputs": [
    {
     "data": {
      "text/plain": [
       "<re.Match object; span=(0, 4), match='http'>"
      ]
     },
     "execution_count": 3,
     "metadata": {},
     "output_type": "execute_result"
    }
   ],
   "source": [
    "p = re.compile(r\".+(?=://)\") # 전방탐색 -> :// 기준 앞쪽 체크\n",
    "p.match(url)"
   ]
  },
  {
   "cell_type": "code",
   "execution_count": 6,
   "id": "3eac171e-6bf6-49b0-8d05-6db343cb3fdd",
   "metadata": {},
   "outputs": [
    {
     "name": "stdout",
     "output_type": "stream",
     "text": [
      "https://www.naver.com\n"
     ]
    }
   ],
   "source": [
    "urls = [\"abc\", \"def\", \"https://www.naver.com\", \"ghi\"]\n",
    "for url in urls:\n",
    "    if p.match(url):\n",
    "        print(url)"
   ]
  },
  {
   "cell_type": "code",
   "execution_count": 7,
   "id": "798140d5-efd5-4e3d-8115-700f6cdbe3e2",
   "metadata": {},
   "outputs": [
    {
     "name": "stdout",
     "output_type": "stream",
     "text": [
      "abc\n",
      "def\n",
      "https://www.naver.com\n",
      "ghi\n"
     ]
    }
   ],
   "source": [
    "p = re.compile(r\".+(?!=://)\") # 전방 부정 탐색 -> :// 아닌 문구의 앞에 있는 패턴 \n",
    "for url in urls:\n",
    "    if p.match(url):\n",
    "        print(url)"
   ]
  },
  {
   "cell_type": "code",
   "execution_count": 8,
   "id": "d6795d12-592a-4b42-9304-c5dfe5106208",
   "metadata": {},
   "outputs": [],
   "source": [
    "a = \"<html><head><title>Title</title></head></html>\""
   ]
  },
  {
   "cell_type": "code",
   "execution_count": 14,
   "id": "30bf2146-26b4-4c72-965e-5f7bee401843",
   "metadata": {},
   "outputs": [
    {
     "data": {
      "text/plain": [
       "'<html><head><title>Title</title></head></html>'"
      ]
     },
     "execution_count": 14,
     "metadata": {},
     "output_type": "execute_result"
    }
   ],
   "source": [
    "p = re.compile(r\"<.*>\") # 최대 매칭 : .*\n",
    "p.match(a).group()"
   ]
  },
  {
   "cell_type": "code",
   "execution_count": 16,
   "id": "96464d78-e348-485a-b8dd-64c156b6e242",
   "metadata": {},
   "outputs": [
    {
     "data": {
      "text/plain": [
       "'<html>'"
      ]
     },
     "execution_count": 16,
     "metadata": {},
     "output_type": "execute_result"
    }
   ],
   "source": [
    "p = re.compile(r\"<.*?>\") # 최소 매칭 : .*?\n",
    "p.match(a).group()"
   ]
  },
  {
   "cell_type": "code",
   "execution_count": 18,
   "id": "b26cf532-ec35-4924-a005-d4ad51774c84",
   "metadata": {},
   "outputs": [
    {
     "data": {
      "text/plain": [
       "'1 fruit, 2 fruit, 3 fruit'"
      ]
     },
     "execution_count": 18,
     "metadata": {},
     "output_type": "execute_result"
    }
   ],
   "source": [
    "p = re.compile(\"apple|orange|melon\")\n",
    "str = \"1 apple, 2 orange, 3 melon\"\n",
    "p.sub(\"fruit\", str) # 기본 동작 : 매칭되는 모든 문자열 교체"
   ]
  },
  {
   "cell_type": "code",
   "execution_count": 20,
   "id": "f8f761b7-7809-443a-89c0-c6f2c65d5fdc",
   "metadata": {},
   "outputs": [
    {
     "data": {
      "text/plain": [
       "'1 fruit, 2 fruit, 3 melon'"
      ]
     },
     "execution_count": 20,
     "metadata": {},
     "output_type": "execute_result"
    }
   ],
   "source": [
    "p = re.compile(\"apple|orange|melon\")\n",
    "str = \"1 apple, 2 orange, 3 melon\"\n",
    "p.sub(\"fruit\", str, count = 2) # count 매개변수로 순서 지정하여 치환 -> 2개까지만 치환"
   ]
  },
  {
   "cell_type": "code",
   "execution_count": 24,
   "id": "5c1189a2-455e-4751-abbd-5de27761e49c",
   "metadata": {},
   "outputs": [
    {
     "data": {
      "text/plain": [
       "('1 fruit, 2 fruit, 3 melon', 2)"
      ]
     },
     "execution_count": 24,
     "metadata": {},
     "output_type": "execute_result"
    }
   ],
   "source": [
    "p = re.compile(\"apple|orange|melon\")\n",
    "str = \"1 apple, 2 orange, 3 melon\"\n",
    "p.subn(\"fruit\", str, 2) # subn 사용 시 count 매개변수 없이 숫자만 입력하여 사용 가능!"
   ]
  }
 ],
 "metadata": {
  "kernelspec": {
   "display_name": "Python 3 (ipykernel)",
   "language": "python",
   "name": "python3"
  },
  "language_info": {
   "codemirror_mode": {
    "name": "ipython",
    "version": 3
   },
   "file_extension": ".py",
   "mimetype": "text/x-python",
   "name": "python",
   "nbconvert_exporter": "python",
   "pygments_lexer": "ipython3",
   "version": "3.12.7"
  }
 },
 "nbformat": 4,
 "nbformat_minor": 5
}
