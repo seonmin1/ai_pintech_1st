{
 "cells": [
  {
   "cell_type": "code",
   "execution_count": 2,
   "id": "e5ec580e-3f5f-44b1-946f-c472b76f1cdd",
   "metadata": {},
   "outputs": [
    {
     "name": "stdout",
     "output_type": "stream",
     "text": [
      "\n",
      "park 800905-*******\n",
      "kim  700905-*******\n",
      "\n"
     ]
    }
   ],
   "source": [
    "import re\n",
    "\n",
    "data = \"\"\"\n",
    "park 800905-1049118\n",
    "kim  700905-1059119\n",
    "\"\"\"\n",
    "\n",
    "p = re.compile(\"(\\\\d{6})[-]\\\\d{7}\")\n",
    "print(p.sub(\"\\\\g<1>-*******\", data))"
   ]
  },
  {
   "cell_type": "code",
   "execution_count": 6,
   "id": "ac51eacd-ed2b-4ada-bb7f-b3e75ee8f8d8",
   "metadata": {},
   "outputs": [
    {
     "data": {
      "text/plain": [
       "<re.Match object; span=(0, 1), match='c'>"
      ]
     },
     "execution_count": 6,
     "metadata": {},
     "output_type": "execute_result"
    }
   ],
   "source": [
    "p = re.compile(\"[abc]\") # a, b, c 각각 패턴 체크 \n",
    "p.match(\"c1234b\") # match는 패턴을 첫 문자부터 체크 "
   ]
  },
  {
   "cell_type": "code",
   "execution_count": 7,
   "id": "4d753b3f-7f8c-4ea3-958c-b7b9e1de2ddc",
   "metadata": {},
   "outputs": [],
   "source": [
    "p = re.compile(\"[abc]\") # a, b, c 각각 패턴 체크 \n",
    "p.match(\"1234b\") # match는 패턴을 첫 문자부터 체크 "
   ]
  },
  {
   "cell_type": "code",
   "execution_count": 11,
   "id": "e93ef138-427e-4089-b388-e8cd15f604c4",
   "metadata": {},
   "outputs": [
    {
     "data": {
      "text/plain": [
       "<re.Match object; span=(0, 1), match='A'>"
      ]
     },
     "execution_count": 11,
     "metadata": {},
     "output_type": "execute_result"
    }
   ],
   "source": [
    "# 체크하는 문자열이 알파벳으로 구성되어 있는지 체크\n",
    "p = re.compile(\"[a-zA-Z0-9]\") # 알파벳 a ~ z, A ~ Z, 0 ~ 9\n",
    "p.match(\"abcdefg1234\") # 각각 문자 한개 한개 체크 \n",
    "p.match(\"ABC1234\") # 대소문자 구분, 소문자만 compile 했을 때 대문자 인식 x"
   ]
  },
  {
   "cell_type": "code",
   "execution_count": 13,
   "id": "c12a393e-827d-4845-9d79-53da9ece0122",
   "metadata": {},
   "outputs": [
    {
     "data": {
      "text/plain": [
       "<re.Match object; span=(0, 1), match='1'>"
      ]
     },
     "execution_count": 13,
     "metadata": {},
     "output_type": "execute_result"
    }
   ],
   "source": [
    "# p = re.compile(\"[0-9]\") # 숫자로 패턴이 시작하는지 알고 싶은 경우 \n",
    "p = re.compile(\"\\\\d\") # \\d == [0-9]\n",
    "p.match(\"123ABC\")"
   ]
  },
  {
   "cell_type": "code",
   "execution_count": 16,
   "id": "de675294-ed3b-484c-bb62-d05245f45da5",
   "metadata": {},
   "outputs": [
    {
     "data": {
      "text/plain": [
       "<re.Match object; span=(0, 1), match='!'>"
      ]
     },
     "execution_count": 16,
     "metadata": {},
     "output_type": "execute_result"
    }
   ],
   "source": [
    "# [..] 문자 클래스에  ^로 시작하면 ~가 아닌 패턴 (제외를 의미)\n",
    "# [^0-9] : 0 ~ 9 숫자를 제외한 모든 문자\n",
    "p = re.compile(\"[^0-9]\") # 숫자로 시작하면 안되는 패턴!  \\D == [^0-9]\n",
    "                         # \\소문자 : ~인 패턴, \\대문자 : ~가 아닌 패턴[^..], \\D == [^0-9]\n",
    "p = re.compile(\"\\\\D\")\n",
    "p.match(\"!123ABC\") "
   ]
  },
  {
   "cell_type": "code",
   "execution_count": 18,
   "id": "f3cdfb1d-8c8e-478a-aad4-cd0c36bdfc5b",
   "metadata": {},
   "outputs": [
    {
     "data": {
      "text/plain": [
       "<re.Match object; span=(0, 1), match='1'>"
      ]
     },
     "execution_count": 18,
     "metadata": {},
     "output_type": "execute_result"
    }
   ],
   "source": [
    "# raw 문자 그대로 인식 - \\d 사용 가능 r'...' 형태로 사용\n",
    "p = re.compile(r'\\d') # r'\\d' == \\\\d == [0-9]\n",
    "p.match(\"1234ABC\")"
   ]
  },
  {
   "cell_type": "code",
   "execution_count": 22,
   "id": "79ddd3ce-30d8-4daa-b016-649ac41b517e",
   "metadata": {},
   "outputs": [],
   "source": [
    "# . : \\n(줄개행 문자)를 제외한 모든 문자 1개 \n",
    "p = re.compile(\"a.b\")\n",
    "p.match(\"abb\")\n",
    "p.match(\"a\\nb\") # \\n(줄개행 문자)가 섞여있어 매칭 안됨 "
   ]
  },
  {
   "cell_type": "code",
   "execution_count": 26,
   "id": "826b4030-0567-43b8-a358-11e185df4a97",
   "metadata": {},
   "outputs": [
    {
     "data": {
      "text/plain": [
       "<re.Match object; span=(0, 5), match='a123b'>"
      ]
     },
     "execution_count": 26,
     "metadata": {},
     "output_type": "execute_result"
    }
   ],
   "source": [
    "p = re.compile(\"a...b\") # a 그 다음 문자는 아무거나 3개 b\n",
    "p = re.compile(\"a.{3}b\") # 위와 동일한 식 \n",
    "p.match(\"a123b\")"
   ]
  },
  {
   "cell_type": "code",
   "execution_count": 48,
   "id": "e71999e2-c4d6-4a8d-a90e-19da11253eaa",
   "metadata": {},
   "outputs": [
    {
     "data": {
      "text/plain": [
       "<re.Match object; span=(0, 12), match='016*123*1234'>"
      ]
     },
     "execution_count": 48,
     "metadata": {},
     "output_type": "execute_result"
    }
   ],
   "source": [
    "# 휴대전화번호 검증\n",
    "# 01[016] : 010, 011, 016 (문자 한개 한개)\n",
    "p = re.compile(r\"01[016].*\\d{3,4}.*\\d{4}\") # 중간번호 3 ~ 4자리, 마지막번호 4자리\n",
    "p.match(\"016*123*1234\") # 숫자가 아닌 모든 특수문자가 번호 사이에 있어도 통과시키려면 사이에 .* 넣으면 가능!"
   ]
  },
  {
   "cell_type": "code",
   "execution_count": 51,
   "id": "af9f9a6f-d38a-4673-a18b-d8650306a4f7",
   "metadata": {},
   "outputs": [
    {
     "data": {
      "text/plain": [
       "<re.Match object; span=(0, 2), match='AB'>"
      ]
     },
     "execution_count": 51,
     "metadata": {},
     "output_type": "execute_result"
    }
   ],
   "source": [
    "# {숫자,} : 숫자 이상 반복\n",
    "# (...) 패턴을 그룹화\n",
    "# p = re.compile(r\"(AB){3,}\")\n",
    "p = re.compile(r\"(AB)+\") # AB가 한번 이상 반복되면\n",
    "p.match(\"AB\") # AB 문자가 1번 이상이면 출력됨 "
   ]
  },
  {
   "cell_type": "code",
   "execution_count": 43,
   "id": "c4e058e3-6585-4f23-908b-315711255b3a",
   "metadata": {},
   "outputs": [
    {
     "data": {
      "text/plain": [
       "<re.Match object; span=(0, 9), match='abc123abc'>"
      ]
     },
     "execution_count": 43,
     "metadata": {},
     "output_type": "execute_result"
    }
   ],
   "source": [
    "p = re.compile(r\".*\\d.*\") # 숫자가 포함된 패턴, * : 있어도 되고 없어도 됨\n",
    "p.match(\"abc123abc\") # 숫자가 포함된 경우 갯수제한없이 출력, 포함되지 않은 경우 출력 안됨"
   ]
  },
  {
   "cell_type": "code",
   "execution_count": 62,
   "id": "47bb238b-1e68-4328-b268-a505d2fab519",
   "metadata": {},
   "outputs": [
    {
     "data": {
      "text/plain": [
       "<re.Match object; span=(0, 17), match='016*123*123433333'>"
      ]
     },
     "execution_count": 62,
     "metadata": {},
     "output_type": "execute_result"
    }
   ],
   "source": [
    "# 휴대전화번호 검증\n",
    "# 01[016] : 010, 011, 016 (문자 한개 한개)\n",
    "# p = re.compile(r\"01[016].*\\d{3,4}.*\\d{4}\") # 중간번호 3 ~ 4자리, 마지막번호 4자리\n",
    "p.search(\"2222016*123*123433333\") # 실행안됨\n",
    "p.search(\"016*123*123433333\")"
   ]
  },
  {
   "cell_type": "code",
   "execution_count": 55,
   "id": "93bd05ab-545a-451a-a328-c4476291de54",
   "metadata": {},
   "outputs": [
    {
     "data": {
      "text/plain": [
       "<re.Match object; span=(0, 13), match='010-1111-1111'>"
      ]
     },
     "execution_count": 55,
     "metadata": {},
     "output_type": "execute_result"
    }
   ],
   "source": [
    "# 휴대전화번호 검증\n",
    "# 01[016] : 010, 011, 016 (문자 한개 한개)\n",
    "# p = re.compile(r\"01[016].*\\d{3,4}.*\\d{4}\") # 중간번호 3 ~ 4자리, 마지막번호 4자리\n",
    "\n",
    "# ^01 -> 반드시 01로 시작하고 \\d{4}$ -> 반드시 숫자 4자리로 끝난다!\n",
    "p = re.compile(r\"^01[016].*\\d{3,4}.*\\d{4}$\")\n",
    "p.search(\"2222016*123*123433333\") # 실행안됨!\n",
    "p.search(\"010-1111-1111\") # 실행됨!"
   ]
  }
 ],
 "metadata": {
  "kernelspec": {
   "display_name": "Python 3 (ipykernel)",
   "language": "python",
   "name": "python3"
  },
  "language_info": {
   "codemirror_mode": {
    "name": "ipython",
    "version": 3
   },
   "file_extension": ".py",
   "mimetype": "text/x-python",
   "name": "python",
   "nbconvert_exporter": "python",
   "pygments_lexer": "ipython3",
   "version": "3.12.7"
  }
 },
 "nbformat": 4,
 "nbformat_minor": 5
}
