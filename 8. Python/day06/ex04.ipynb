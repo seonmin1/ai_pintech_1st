{
 "cells": [
  {
   "cell_type": "code",
   "execution_count": 15,
   "id": "8032f04c-74bd-4ee9-8b39-d81e725aebcd",
   "metadata": {},
   "outputs": [],
   "source": [
    "# 이터레이터를 만들려면 iter(...) 메서드 사용\n",
    "fruits = [\"사과\", \"오렌지\", \"망고\", \"멜론\"]\n",
    "itr = iter(fruits) # 이터레이터 객체"
   ]
  },
  {
   "cell_type": "code",
   "execution_count": 14,
   "id": "235ed8a4-0453-4500-9fdf-2081cce0ef38",
   "metadata": {},
   "outputs": [
    {
     "name": "stdout",
     "output_type": "stream",
     "text": [
      "사과\n",
      "오렌지\n",
      "망고\n",
      "멜론\n"
     ]
    }
   ],
   "source": [
    "# 모든 객체를 꺼내왔을 때 StopIteration 예외 발생하므로 예외처리함\n",
    "\n",
    "while True:\n",
    "    try:\n",
    "        print(next(itr))\n",
    "    except StopIteration:\n",
    "        break"
   ]
  },
  {
   "cell_type": "code",
   "execution_count": 16,
   "id": "c477478d-c2ba-49cc-a58f-d9e0ac3fbe29",
   "metadata": {},
   "outputs": [
    {
     "name": "stdout",
     "output_type": "stream",
     "text": [
      "사과\n",
      "오렌지\n",
      "망고\n",
      "멜론\n"
     ]
    }
   ],
   "source": [
    "# for문 사용 시 예외처리 필요 없음\n",
    "\n",
    "for fruit in itr:\n",
    "    print(fruit)"
   ]
  },
  {
   "cell_type": "code",
   "execution_count": 17,
   "id": "4120f81b-437d-4cec-8146-7b9c81fbc641",
   "metadata": {},
   "outputs": [],
   "source": [
    "# 제너레이터 \n",
    "def mygen():\n",
    "    yield 'A'\n",
    "    yield 'B'\n",
    "    yield 'C'\n",
    "    yield 'D'"
   ]
  },
  {
   "cell_type": "code",
   "execution_count": 18,
   "id": "76b02958-136e-4dfa-9a3a-d299fe9609e6",
   "metadata": {},
   "outputs": [
    {
     "data": {
      "text/plain": [
       "generator"
      ]
     },
     "execution_count": 18,
     "metadata": {},
     "output_type": "execute_result"
    }
   ],
   "source": [
    "gen = mygen()\n",
    "type(gen)"
   ]
  },
  {
   "cell_type": "code",
   "execution_count": 23,
   "id": "ceed220d-57c7-417d-ad32-7c054f35ff48",
   "metadata": {},
   "outputs": [
    {
     "ename": "StopIteration",
     "evalue": "",
     "output_type": "error",
     "traceback": [
      "\u001b[1;31m---------------------------------------------------------------------------\u001b[0m",
      "\u001b[1;31mStopIteration\u001b[0m                             Traceback (most recent call last)",
      "Cell \u001b[1;32mIn[23], line 1\u001b[0m\n\u001b[1;32m----> 1\u001b[0m \u001b[38;5;28;43mnext\u001b[39;49m\u001b[43m(\u001b[49m\u001b[43mgen\u001b[49m\u001b[43m)\u001b[49m\n",
      "\u001b[1;31mStopIteration\u001b[0m: "
     ]
    }
   ],
   "source": [
    "next(gen) # A, B, C, D 차례로 출력 후 더이상 값이 없으면 StopIteration 예외 발생! "
   ]
  },
  {
   "cell_type": "code",
   "execution_count": 24,
   "id": "99e73095-54f2-420f-8589-56155bdc1fa7",
   "metadata": {},
   "outputs": [
    {
     "name": "stdout",
     "output_type": "stream",
     "text": [
      "A\n",
      "B\n",
      "C\n",
      "D\n"
     ]
    }
   ],
   "source": [
    "# for문 사용 시 예외처리 필요 없음\n",
    "for item in mygen():\n",
    "    print(item)"
   ]
  }
 ],
 "metadata": {
  "kernelspec": {
   "display_name": "Python 3 (ipykernel)",
   "language": "python",
   "name": "python3"
  },
  "language_info": {
   "codemirror_mode": {
    "name": "ipython",
    "version": 3
   },
   "file_extension": ".py",
   "mimetype": "text/x-python",
   "name": "python",
   "nbconvert_exporter": "python",
   "pygments_lexer": "ipython3",
   "version": "3.12.7"
  }
 },
 "nbformat": 4,
 "nbformat_minor": 5
}
