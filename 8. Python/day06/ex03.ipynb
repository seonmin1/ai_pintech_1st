{
 "cells": [
  {
   "cell_type": "code",
   "execution_count": 1,
   "id": "87d15cf1-da48-44c1-8ef9-4e340e6bcb3e",
   "metadata": {},
   "outputs": [],
   "source": [
    "import requests\n",
    "\n",
    "response = requests.get(\"http://news.naver.com\")\n",
    "html = response.text"
   ]
  },
  {
   "cell_type": "code",
   "execution_count": null,
   "id": "26cc61d2-40a6-44a3-af75-087a28d232f4",
   "metadata": {},
   "outputs": [],
   "source": [
    "import re\n",
    "\n",
    "\"\"\"\n",
    "<img id=\"img1\" class=\"_LAZY_LOADING _LAZY_LOADING_INIT_HIDE\" alt=\"유세프 함마쉬 기자는 &amp;lt;지금 가자에서는&amp;gt; 연속 보도를 이어왔다. &amp;#169;시사IN 이명익\" style=\"\" src=\"https://imgnews.pstatic.net/image/308/2024/11/22/0000035752_002_20241122073226084.jpg?type=w860\">\n",
    "\"\"\"\n",
    "\n",
    "p = re.compile(r\"<img[^>]+>\")\n",
    "imgs = p.findall(html)\n",
    "for img in imgs:\n",
    "    print(img)"
   ]
  },
  {
   "cell_type": "code",
   "execution_count": 14,
   "id": "f8dbc59f-fd3d-47b6-bc0f-8e3da4be3d07",
   "metadata": {},
   "outputs": [
    {
     "name": "stdout",
     "output_type": "stream",
     "text": [
      "<span class=\"Nitem_link_menu\">언론사별</span>\n",
      "<span class=\"Nitem_link_menu\">정치</span>\n",
      "<span class=\"Nitem_link_menu\">경제</span>\n",
      "<span class=\"Nitem_link_menu\">사회</span>\n",
      "<span class=\"Nitem_link_menu\">생활/문화</span>\n",
      "<span class=\"Nitem_link_menu\">IT/과학</span>\n",
      "<span class=\"Nitem_link_menu\">세계</span>\n",
      "<span class=\"Nitem_link_menu\">랭킹</span>\n",
      "<span class=\"Nitem_link_menu\">신문보기</span>\n",
      "<span class=\"Nitem_link_menu\">오피니언</span>\n",
      "<span class=\"Nitem_link_menu\">TV</span>\n",
      "<span class=\"Nitem_link_menu\">팩트체크</span>\n",
      "<span class=\"Nitem_link_menu\">알고리즘 안내</span>\n",
      "<span class=\"Nitem_link_menu\">정정보도 모음</span>\n"
     ]
    }
   ],
   "source": [
    "# 네이버 뉴스 언론사별 메뉴 출력해보기\n",
    "import re\n",
    "\n",
    "\"\"\"\n",
    "<span class=\"Nitem_link_menu\">정치</span>\n",
    "\"\"\"\n",
    "p = re.compile(r\"<span.*class=['\\\"]Nitem_link_menu['\\\"][^>]*>[^<]+</span>\")\n",
    "items = p.findall(html)\n",
    "for item in items:\n",
    "    print(item)"
   ]
  },
  {
   "cell_type": "code",
   "execution_count": 30,
   "id": "93633cf9-d0e4-4365-8f27-240ef388497a",
   "metadata": {},
   "outputs": [],
   "source": [
    "\"\"\"\n",
    "<span class=\"Nitem_link_menu\">정치</span>\n",
    "\"\"\"\n",
    "p = re.compile(r\"<span.*class=['\\\"]Nitem_link_menu['\\\"][^>]*>[^<]+</span>\")\n",
    "itr = p.finditer(html)"
   ]
  },
  {
   "cell_type": "code",
   "execution_count": 31,
   "id": "2dac5a94-6b5a-4e56-88a3-748075e47a2d",
   "metadata": {},
   "outputs": [
    {
     "name": "stdout",
     "output_type": "stream",
     "text": [
      "--------------------------------------------------\n",
      "group(): <span class=\"Nitem_link_menu\">언론사별</span>\n",
      "start(): 12180\n",
      "end(): 12221\n",
      "span(): (12180, 12221)\n",
      "--------------------------------------------------\n",
      "group(): <span class=\"Nitem_link_menu\">정치</span>\n",
      "start(): 13520\n",
      "end(): 13559\n",
      "span(): (13520, 13559)\n",
      "--------------------------------------------------\n",
      "group(): <span class=\"Nitem_link_menu\">경제</span>\n",
      "start(): 14858\n",
      "end(): 14897\n",
      "span(): (14858, 14897)\n",
      "--------------------------------------------------\n",
      "group(): <span class=\"Nitem_link_menu\">사회</span>\n",
      "start(): 16196\n",
      "end(): 16235\n",
      "span(): (16196, 16235)\n",
      "--------------------------------------------------\n",
      "group(): <span class=\"Nitem_link_menu\">생활/문화</span>\n",
      "start(): 17534\n",
      "end(): 17576\n",
      "span(): (17534, 17576)\n",
      "--------------------------------------------------\n",
      "group(): <span class=\"Nitem_link_menu\">IT/과학</span>\n",
      "start(): 18875\n",
      "end(): 18917\n",
      "span(): (18875, 18917)\n",
      "--------------------------------------------------\n",
      "group(): <span class=\"Nitem_link_menu\">세계</span>\n",
      "start(): 20216\n",
      "end(): 20255\n",
      "span(): (20216, 20255)\n",
      "--------------------------------------------------\n",
      "group(): <span class=\"Nitem_link_menu\">랭킹</span>\n",
      "start(): 21666\n",
      "end(): 21705\n",
      "span(): (21666, 21705)\n",
      "--------------------------------------------------\n",
      "group(): <span class=\"Nitem_link_menu\">신문보기</span>\n",
      "start(): 23114\n",
      "end(): 23155\n",
      "span(): (23114, 23155)\n",
      "--------------------------------------------------\n",
      "group(): <span class=\"Nitem_link_menu\">오피니언</span>\n",
      "start(): 24455\n",
      "end(): 24496\n",
      "span(): (24455, 24496)\n",
      "--------------------------------------------------\n",
      "group(): <span class=\"Nitem_link_menu\">TV</span>\n",
      "start(): 25810\n",
      "end(): 25849\n",
      "span(): (25810, 25849)\n",
      "--------------------------------------------------\n",
      "group(): <span class=\"Nitem_link_menu\">팩트체크</span>\n",
      "start(): 27152\n",
      "end(): 27193\n",
      "span(): (27152, 27193)\n",
      "--------------------------------------------------\n",
      "group(): <span class=\"Nitem_link_menu\">알고리즘 안내</span>\n",
      "start(): 28492\n",
      "end(): 28536\n",
      "span(): (28492, 28536)\n",
      "--------------------------------------------------\n",
      "group(): <span class=\"Nitem_link_menu\">정정보도 모음</span>\n",
      "start(): 29966\n",
      "end(): 30010\n",
      "span(): (29966, 30010)\n"
     ]
    }
   ],
   "source": [
    "for m in itr:\n",
    "    print(\"-\" * 50)\n",
    "    print(\"group():\", m.group())\n",
    "    print(\"start():\", m.start())\n",
    "    print(\"end():\", m.end())\n",
    "    print(\"span():\", m.span())"
   ]
  },
  {
   "cell_type": "code",
   "execution_count": 32,
   "id": "e538f394-d835-4f3a-926e-7d76aff7ffc6",
   "metadata": {},
   "outputs": [
    {
     "data": {
      "text/plain": [
       "<re.Match object; span=(0, 13), match='010-1000-1000'>"
      ]
     },
     "execution_count": 32,
     "metadata": {},
     "output_type": "execute_result"
    }
   ],
   "source": [
    "re.search(r\"^01[016]\\D*\\d{3,4}\\D*\\d{4}$\", \"010-1000-1000\")"
   ]
  }
 ],
 "metadata": {
  "kernelspec": {
   "display_name": "Python 3 (ipykernel)",
   "language": "python",
   "name": "python3"
  },
  "language_info": {
   "codemirror_mode": {
    "name": "ipython",
    "version": 3
   },
   "file_extension": ".py",
   "mimetype": "text/x-python",
   "name": "python",
   "nbconvert_exporter": "python",
   "pygments_lexer": "ipython3",
   "version": "3.12.7"
  }
 },
 "nbformat": 4,
 "nbformat_minor": 5
}
