{
 "cells": [
  {
   "cell_type": "code",
   "execution_count": 2,
   "id": "d9b06592-c902-41f6-b0e0-722408116cd1",
   "metadata": {},
   "outputs": [],
   "source": [
    "a = (1, 2, 3)"
   ]
  },
  {
   "cell_type": "code",
   "execution_count": 3,
   "id": "082ada02-ea92-49bf-96e7-359695566938",
   "metadata": {},
   "outputs": [
    {
     "data": {
      "text/plain": [
       "2"
      ]
     },
     "execution_count": 3,
     "metadata": {},
     "output_type": "execute_result"
    }
   ],
   "source": [
    "a[1]"
   ]
  },
  {
   "cell_type": "code",
   "execution_count": 8,
   "id": "8e8506a0-186e-4e82-b8db-fa6d659c7e6f",
   "metadata": {},
   "outputs": [
    {
     "data": {
      "text/plain": [
       "1"
      ]
     },
     "execution_count": 8,
     "metadata": {},
     "output_type": "execute_result"
    }
   ],
   "source": [
    "a = (1) # 튜플로 인식하는 것이 아니라 숫자 1로 인식 \n",
    "a"
   ]
  },
  {
   "cell_type": "code",
   "execution_count": 11,
   "id": "f083fd03-ba4f-475a-ac51-197ba5d39eb8",
   "metadata": {},
   "outputs": [
    {
     "data": {
      "text/plain": [
       "int"
      ]
     },
     "execution_count": 11,
     "metadata": {},
     "output_type": "execute_result"
    }
   ],
   "source": [
    "type((1))"
   ]
  },
  {
   "cell_type": "code",
   "execution_count": 10,
   "id": "c4663879-2387-449e-804a-19ca9b256736",
   "metadata": {},
   "outputs": [
    {
     "data": {
      "text/plain": [
       "(1,)"
      ]
     },
     "execution_count": 10,
     "metadata": {},
     "output_type": "execute_result"
    }
   ],
   "source": [
    "a = (1,) # 숫자 1이라는 값이 있는 튜플로 인식 \n",
    "a"
   ]
  },
  {
   "cell_type": "code",
   "execution_count": 12,
   "id": "507da5c3-7776-4e9a-8e44-68efdcf5f0c0",
   "metadata": {},
   "outputs": [
    {
     "data": {
      "text/plain": [
       "tuple"
      ]
     },
     "execution_count": 12,
     "metadata": {},
     "output_type": "execute_result"
    }
   ],
   "source": [
    "type((1,))"
   ]
  },
  {
   "cell_type": "code",
   "execution_count": 4,
   "id": "097060e3-64b1-4bd3-b439-0e9aa1cd952e",
   "metadata": {},
   "outputs": [
    {
     "ename": "TypeError",
     "evalue": "'tuple' object does not support item assignment",
     "output_type": "error",
     "traceback": [
      "\u001b[1;31m---------------------------------------------------------------------------\u001b[0m",
      "\u001b[1;31mTypeError\u001b[0m                                 Traceback (most recent call last)",
      "Cell \u001b[1;32mIn[4], line 1\u001b[0m\n\u001b[1;32m----> 1\u001b[0m \u001b[43ma\u001b[49m\u001b[43m[\u001b[49m\u001b[38;5;241;43m1\u001b[39;49m\u001b[43m]\u001b[49m \u001b[38;5;241m=\u001b[39m \u001b[38;5;124m'\u001b[39m\u001b[38;5;124mA\u001b[39m\u001b[38;5;124m'\u001b[39m\n",
      "\u001b[1;31mTypeError\u001b[0m: 'tuple' object does not support item assignment"
     ]
    }
   ],
   "source": [
    "a[1] = 'A' # 튜플은 변경불가 리스트이므로 수정 시 예외 발생 "
   ]
  },
  {
   "cell_type": "code",
   "execution_count": 5,
   "id": "95cdbf76-3654-4595-997c-101109ca470a",
   "metadata": {},
   "outputs": [
    {
     "ename": "TypeError",
     "evalue": "'tuple' object doesn't support item deletion",
     "output_type": "error",
     "traceback": [
      "\u001b[1;31m---------------------------------------------------------------------------\u001b[0m",
      "\u001b[1;31mTypeError\u001b[0m                                 Traceback (most recent call last)",
      "Cell \u001b[1;32mIn[5], line 1\u001b[0m\n\u001b[1;32m----> 1\u001b[0m \u001b[38;5;28;01mdel\u001b[39;00m \u001b[43ma\u001b[49m\u001b[43m[\u001b[49m\u001b[38;5;241;43m1\u001b[39;49m\u001b[43m]\u001b[49m\n",
      "\u001b[1;31mTypeError\u001b[0m: 'tuple' object doesn't support item deletion"
     ]
    }
   ],
   "source": [
    "del a[1] # 튜플은 변경불가 리스트이므로 삭제 시 예외 발생 "
   ]
  },
  {
   "cell_type": "code",
   "execution_count": 13,
   "id": "1e5d8b3d-cfd4-48da-8616-51a7c21b4461",
   "metadata": {},
   "outputs": [
    {
     "data": {
      "text/plain": [
       "(1, 2, 3, 4, 5)"
      ]
     },
     "execution_count": 13,
     "metadata": {},
     "output_type": "execute_result"
    }
   ],
   "source": [
    "a = 1, 2, 3, 4, 5 # 튜플로 인식 \n",
    "a"
   ]
  },
  {
   "cell_type": "code",
   "execution_count": 14,
   "id": "feab7be6-c7eb-4128-846a-3d01944ee172",
   "metadata": {},
   "outputs": [
    {
     "data": {
      "text/plain": [
       "tuple"
      ]
     },
     "execution_count": 14,
     "metadata": {},
     "output_type": "execute_result"
    }
   ],
   "source": [
    "type(a)"
   ]
  },
  {
   "cell_type": "code",
   "execution_count": 16,
   "id": "fd36f2ee-8c10-4961-84d9-eae6ca99d821",
   "metadata": {},
   "outputs": [],
   "source": [
    "a = (1, 2, 3)\n",
    "b = (4, 5, 6)"
   ]
  },
  {
   "cell_type": "code",
   "execution_count": 17,
   "id": "55ad12bd-f563-4d88-a14d-33c4a578fc5d",
   "metadata": {},
   "outputs": [
    {
     "name": "stdout",
     "output_type": "stream",
     "text": [
      "(1, 2, 3, 4, 5, 6)\n"
     ]
    }
   ],
   "source": [
    "c = a + b\n",
    "print(c)"
   ]
  },
  {
   "cell_type": "code",
   "execution_count": 19,
   "id": "41b53e2e-ddbf-4073-8e69-ad4bf4a06f0b",
   "metadata": {},
   "outputs": [
    {
     "name": "stdout",
     "output_type": "stream",
     "text": [
      "(1, 2, 3, 1, 2, 3, 1, 2, 3)\n"
     ]
    }
   ],
   "source": [
    "b = (4, 5, 6)\n",
    "d = a * 3\n",
    "print(d)"
   ]
  },
  {
   "cell_type": "code",
   "execution_count": 24,
   "id": "b3332637-5eeb-4c47-be35-d8b205a69467",
   "metadata": {},
   "outputs": [],
   "source": [
    "a = (\"사과\", \"오렌지\")"
   ]
  },
  {
   "cell_type": "code",
   "execution_count": 26,
   "id": "0908e115-af9c-429d-983b-c48e5071061b",
   "metadata": {},
   "outputs": [],
   "source": [
    "(apple, orange) = a # 비구조 할당 (리스트도 가능하지만 대괄호 생략 불가)"
   ]
  },
  {
   "cell_type": "code",
   "execution_count": 27,
   "id": "6e692ffa-d78c-4d2f-b7ee-7250ecf8705b",
   "metadata": {},
   "outputs": [
    {
     "name": "stdout",
     "output_type": "stream",
     "text": [
      "사과 오렌지\n"
     ]
    }
   ],
   "source": [
    "print(apple, orange)"
   ]
  },
  {
   "cell_type": "code",
   "execution_count": 28,
   "id": "39dcb0c4-1f9c-4588-b39a-af7df1b70220",
   "metadata": {},
   "outputs": [],
   "source": [
    "a = \"사과\", \"오렌지\" # 튜플은 소괄호 없이 나열식으로도 사용 가능 "
   ]
  },
  {
   "cell_type": "code",
   "execution_count": 29,
   "id": "f7e287b4-6b58-4139-acaa-aecb00d47256",
   "metadata": {},
   "outputs": [],
   "source": [
    "apple, orange = a"
   ]
  },
  {
   "cell_type": "code",
   "execution_count": 30,
   "id": "d785fd74-f39c-4049-9a92-09ef8454a9c7",
   "metadata": {},
   "outputs": [
    {
     "name": "stdout",
     "output_type": "stream",
     "text": [
      "사과 오렌지\n"
     ]
    }
   ],
   "source": [
    "print(apple, orange)"
   ]
  },
  {
   "cell_type": "code",
   "execution_count": 31,
   "id": "b42598a9-da57-4619-a242-64c1b67271d6",
   "metadata": {},
   "outputs": [],
   "source": [
    "a = 20\n",
    "b = 10"
   ]
  },
  {
   "cell_type": "code",
   "execution_count": 32,
   "id": "832e6667-cbf6-40d3-9264-13d8e6cf40aa",
   "metadata": {},
   "outputs": [],
   "source": [
    "a, b =  b, a # 비구조 할당 (변수를 직접 할당)"
   ]
  },
  {
   "cell_type": "code",
   "execution_count": 33,
   "id": "6035281b-b2af-4657-9a18-c5d2beefc476",
   "metadata": {},
   "outputs": [
    {
     "name": "stdout",
     "output_type": "stream",
     "text": [
      "10 20\n"
     ]
    }
   ],
   "source": [
    "print(a, b) # a, b 순서가 바뀐 것을 알 수 있음 "
   ]
  }
 ],
 "metadata": {
  "kernelspec": {
   "display_name": "Python 3 (ipykernel)",
   "language": "python",
   "name": "python3"
  },
  "language_info": {
   "codemirror_mode": {
    "name": "ipython",
    "version": 3
   },
   "file_extension": ".py",
   "mimetype": "text/x-python",
   "name": "python",
   "nbconvert_exporter": "python",
   "pygments_lexer": "ipython3",
   "version": "3.12.7"
  }
 },
 "nbformat": 4,
 "nbformat_minor": 5
}
