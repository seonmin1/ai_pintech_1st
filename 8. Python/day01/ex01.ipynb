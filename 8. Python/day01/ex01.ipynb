{
 "cells": [
  {
   "cell_type": "code",
   "execution_count": 3,
   "id": "bde57153-0bd9-4f20-9014-f8fe62668493",
   "metadata": {},
   "outputs": [
    {
     "data": {
      "text/plain": [
       "8"
      ]
     },
     "execution_count": 3,
     "metadata": {},
     "output_type": "execute_result"
    }
   ],
   "source": [
    "# ** : 제곱 연산\n",
    "2 ** 3 # 2의 3제곱"
   ]
  },
  {
   "cell_type": "code",
   "execution_count": 6,
   "id": "c55280d7-23ab-435e-880f-bf2d9f467ee9",
   "metadata": {},
   "outputs": [
    {
     "name": "stdout",
     "output_type": "stream",
     "text": [
      "1\n",
      "4\n"
     ]
    }
   ],
   "source": [
    "# % : 나머지 연산자\n",
    "# // : 몫을 구하는 연산자\n",
    "print(9 % 2)\n",
    "print(9 // 2)"
   ]
  },
  {
   "cell_type": "code",
   "execution_count": 11,
   "id": "37c16886-1644-4b38-a8f9-04affc95d01d",
   "metadata": {},
   "outputs": [
    {
     "data": {
      "text/plain": [
       "str"
      ]
     },
     "execution_count": 11,
     "metadata": {},
     "output_type": "execute_result"
    }
   ],
   "source": [
    "# a = 10 # int\n",
    "# a = 100.123 # float\n",
    "# a = \"Python\"  #str\n",
    "a = 'Python' #str\n",
    "type(a) # 자료형 체크 함수 "
   ]
  },
  {
   "cell_type": "code",
   "execution_count": 12,
   "id": "e043c91a-2fcb-4f66-8278-f3e099d01b2e",
   "metadata": {},
   "outputs": [
    {
     "data": {
      "text/plain": [
       "\"Python's favorite food is perl\""
      ]
     },
     "execution_count": 12,
     "metadata": {},
     "output_type": "execute_result"
    }
   ],
   "source": [
    "\"Python's favorite food is perl\" # 문장에 작은 따옴표가 섞여있는 경우 큰 따옴표(\"\") 사용"
   ]
  },
  {
   "cell_type": "code",
   "execution_count": 15,
   "id": "5d9a35a4-ca2c-4e8c-bf9b-8ba2f998b6d7",
   "metadata": {},
   "outputs": [
    {
     "data": {
      "text/plain": [
       "'Python\"s favorite food is perl'"
      ]
     },
     "execution_count": 15,
     "metadata": {},
     "output_type": "execute_result"
    }
   ],
   "source": [
    "# 'Python's favorite food is perl' - 오류발생 (문법오류)\n",
    "'Python\\'s favorite food is perl' # \\' - 작은 따옴표 인식 가능 (\\ - escape 문자)\n",
    "\"Python\\\"s favorite food is perl\" # \\\" - 큰 따옴표 인식 가능"
   ]
  },
  {
   "cell_type": "code",
   "execution_count": 17,
   "id": "ce6db7d8-0558-422f-be43-a62cdefca97d",
   "metadata": {},
   "outputs": [
    {
     "name": "stdout",
     "output_type": "stream",
     "text": [
      "Life is short, \n",
      "You need python\n"
     ]
    }
   ],
   "source": [
    "a = \"Life is short, \\nYou need python\" # \\n : 메타 문자 / 줄개행\n",
    "print(a)"
   ]
  },
  {
   "cell_type": "code",
   "execution_count": 19,
   "id": "3dc8f8d5-bab2-4aa9-926c-7f1f8caf273a",
   "metadata": {},
   "outputs": [
    {
     "name": "stdout",
     "output_type": "stream",
     "text": [
      "Life is short,\n",
      "You need python\n"
     ]
    }
   ],
   "source": [
    "b = \"\"\"Life is short,\n",
    "You need python\"\"\" # \"\"\" 또는 ''' 모두 가능!\n",
    "print(b)"
   ]
  },
  {
   "cell_type": "code",
   "execution_count": 24,
   "id": "f6cb3384-6036-4dc8-9c49-28b8aaab505b",
   "metadata": {},
   "outputs": [
    {
     "data": {
      "text/plain": [
       "'python is fun!'"
      ]
     },
     "execution_count": 24,
     "metadata": {},
     "output_type": "execute_result"
    }
   ],
   "source": [
    "\"python\" + \" is \" + \"fun!\" # 문자열 결합"
   ]
  },
  {
   "cell_type": "code",
   "execution_count": 25,
   "id": "a3f91ca0-e026-462c-8393-1ae7e3c95fc7",
   "metadata": {},
   "outputs": [
    {
     "data": {
      "text/plain": [
       "'pythonpythonpython'"
      ]
     },
     "execution_count": 25,
     "metadata": {},
     "output_type": "execute_result"
    }
   ],
   "source": [
    "\"python\" * 3 # 문자열 곱하기 "
   ]
  },
  {
   "cell_type": "code",
   "execution_count": 23,
   "id": "60c8ab5d-c8c3-4ff4-a508-d2a431c75f3a",
   "metadata": {},
   "outputs": [
    {
     "name": "stdout",
     "output_type": "stream",
     "text": [
      "==============================\n",
      "재미있는 파이썬 공부!\n",
      "==============================\n"
     ]
    }
   ],
   "source": [
    "print(\"=\" * 30)\n",
    "print(\"재미있는 파이썬 공부!\")\n",
    "print(\"=\" * 30)"
   ]
  },
  {
   "cell_type": "code",
   "execution_count": 26,
   "id": "a41af6d3-20ea-48c3-9fcf-b96c757dc7b5",
   "metadata": {},
   "outputs": [
    {
     "data": {
      "text/plain": [
       "5"
      ]
     },
     "execution_count": 26,
     "metadata": {},
     "output_type": "execute_result"
    }
   ],
   "source": [
    "a = \"가나다라마\"\n",
    "len(a)"
   ]
  },
  {
   "cell_type": "code",
   "execution_count": 28,
   "id": "8b44e93e-5e6d-4eea-ba2d-99b3839541f3",
   "metadata": {},
   "outputs": [],
   "source": [
    "a = \"Life is too short, You need Python\""
   ]
  },
  {
   "cell_type": "code",
   "execution_count": 48,
   "id": "f98939a1-72dc-4a8f-9bb8-c4f4989dddd3",
   "metadata": {},
   "outputs": [
    {
     "name": "stdout",
     "output_type": "stream",
     "text": [
      "Life is too short, You need Python\n",
      "Life 2873993194320 2873993375264\n"
     ]
    }
   ],
   "source": [
    "b = a[:] # 문자열 전체 복사 \n",
    "print(b)\n",
    "print(a[0:4], id(a[0:4]), id(a))"
   ]
  },
  {
   "cell_type": "code",
   "execution_count": 42,
   "id": "eb2db7b4-2c5f-4e3a-891a-8b439de03a81",
   "metadata": {},
   "outputs": [
    {
     "data": {
      "text/plain": [
       "'Life is too short, You need'"
      ]
     },
     "execution_count": 42,
     "metadata": {},
     "output_type": "execute_result"
    }
   ],
   "source": [
    "a[:-7] # 0 ~ -8까지"
   ]
  },
  {
   "cell_type": "code",
   "execution_count": 41,
   "id": "63a45169-2fab-4011-a534-839235cf0f72",
   "metadata": {},
   "outputs": [
    {
     "data": {
      "text/plain": [
       "'Python'"
      ]
     },
     "execution_count": 41,
     "metadata": {},
     "output_type": "execute_result"
    }
   ],
   "source": [
    "a[-6:] # -6 인덱스 위치부터 끝까지 "
   ]
  },
  {
   "cell_type": "code",
   "execution_count": 35,
   "id": "68e00da0-5391-450a-8736-6a32d359b423",
   "metadata": {},
   "outputs": [
    {
     "data": {
      "text/plain": [
       "'Life'"
      ]
     },
     "execution_count": 35,
     "metadata": {},
     "output_type": "execute_result"
    }
   ],
   "source": [
    "a[0:4] # 실제 순서 0~3"
   ]
  },
  {
   "cell_type": "code",
   "execution_count": 34,
   "id": "a7cc74c5-ce29-43db-a9b4-a2c92dca0e3d",
   "metadata": {},
   "outputs": [
    {
     "data": {
      "text/plain": [
       "'n'"
      ]
     },
     "execution_count": 34,
     "metadata": {},
     "output_type": "execute_result"
    }
   ],
   "source": [
    "a[-1] # 오른쪽부터 (음수)"
   ]
  },
  {
   "cell_type": "code",
   "execution_count": 29,
   "id": "5ed4c573-ea3d-4302-a4ad-d62ac7c13ccf",
   "metadata": {},
   "outputs": [
    {
     "data": {
      "text/plain": [
       "'f'"
      ]
     },
     "execution_count": 29,
     "metadata": {},
     "output_type": "execute_result"
    }
   ],
   "source": [
    "a[2] # 왼쪽부터 (양수)"
   ]
  },
  {
   "cell_type": "code",
   "execution_count": 30,
   "id": "9b258492-df12-455e-9c72-3d5d689c8739",
   "metadata": {},
   "outputs": [
    {
     "ename": "TypeError",
     "evalue": "'str' object does not support item assignment",
     "output_type": "error",
     "traceback": [
      "\u001b[1;31m---------------------------------------------------------------------------\u001b[0m",
      "\u001b[1;31mTypeError\u001b[0m                                 Traceback (most recent call last)",
      "Cell \u001b[1;32mIn[30], line 1\u001b[0m\n\u001b[1;32m----> 1\u001b[0m \u001b[43ma\u001b[49m\u001b[43m[\u001b[49m\u001b[38;5;241;43m2\u001b[39;49m\u001b[43m]\u001b[49m \u001b[38;5;241m=\u001b[39m \u001b[38;5;124m\"\u001b[39m\u001b[38;5;124mF\u001b[39m\u001b[38;5;124m\"\u001b[39m\n",
      "\u001b[1;31mTypeError\u001b[0m: 'str' object does not support item assignment"
     ]
    }
   ],
   "source": [
    "a[2] = \"F\""
   ]
  },
  {
   "cell_type": "code",
   "execution_count": 33,
   "id": "ed270c0f-5c10-4421-8a81-20f1a1088396",
   "metadata": {},
   "outputs": [
    {
     "name": "stdout",
     "output_type": "stream",
     "text": [
      "140708561765296\n",
      "2873993394096\n",
      "ABCDEF\n"
     ]
    }
   ],
   "source": [
    "b = \"ABC\"  # id : 자원의 주소를 조회하는 함수\n",
    "print(id(b))\n",
    "\n",
    "b += \"DEF\"\n",
    "print(id(b)) # 문자열은 불변! 새로 추가하면 새로운 문자열 객체가 생성된다 \n",
    "print(b)"
   ]
  },
  {
   "cell_type": "code",
   "execution_count": 49,
   "id": "b6a7cc84-89c5-451e-b276-0892e60f5681",
   "metadata": {},
   "outputs": [
    {
     "data": {
      "text/plain": [
       "'Python'"
      ]
     },
     "execution_count": 49,
     "metadata": {},
     "output_type": "execute_result"
    }
   ],
   "source": [
    "a = \"Pithon\" # Python으로 변경하시오\n",
    "a[0] + \"y\" + a[2:]"
   ]
  },
  {
   "cell_type": "code",
   "execution_count": 51,
   "id": "810dfcbf-7b2d-40a4-82d9-9b8dd17a1319",
   "metadata": {},
   "outputs": [
    {
     "data": {
      "text/plain": [
       "'I eat 3 apples.'"
      ]
     },
     "execution_count": 51,
     "metadata": {},
     "output_type": "execute_result"
    }
   ],
   "source": [
    "\"I eat %d apples.\" % 3 # 숫자 대입 "
   ]
  },
  {
   "cell_type": "code",
   "execution_count": 52,
   "id": "26f8f8ca-d7d4-4da2-a7c0-8cdd8639e0da",
   "metadata": {},
   "outputs": [
    {
     "data": {
      "text/plain": [
       "'I eat three apples.'"
      ]
     },
     "execution_count": 52,
     "metadata": {},
     "output_type": "execute_result"
    }
   ],
   "source": [
    "\"I eat %s apples.\" % \"three\" # 문자 대입"
   ]
  },
  {
   "cell_type": "code",
   "execution_count": 54,
   "id": "cfab4d5f-87ba-4bfb-bfad-2a174c033039",
   "metadata": {},
   "outputs": [
    {
     "data": {
      "text/plain": [
       "'I eat 3 apples and 5 breads'"
      ]
     },
     "execution_count": 54,
     "metadata": {},
     "output_type": "execute_result"
    }
   ],
   "source": [
    "\"I eat %d apples and %d breads\" % (3, 5) # 튜플 : 여러개 입력 시 사용 "
   ]
  },
  {
   "cell_type": "code",
   "execution_count": 56,
   "id": "229c995c-df3f-4514-b652-ec03c882896e",
   "metadata": {},
   "outputs": [
    {
     "data": {
      "text/plain": [
       "'loading is now 78%'"
      ]
     },
     "execution_count": 56,
     "metadata": {},
     "output_type": "execute_result"
    }
   ],
   "source": [
    "# \"loading is now %d%\" % 78 - 오류 발생\n",
    "\"loading is now %d%%\" % 78 # % : 형식화를 위한 문법적 문자로 인식하므로 %% 써야 %문자로 인식 "
   ]
  },
  {
   "cell_type": "code",
   "execution_count": 59,
   "id": "fc5d7cea-68c9-47fe-92d7-e5b44c121b62",
   "metadata": {},
   "outputs": [
    {
     "data": {
      "text/plain": [
       "'ABC       DEF'"
      ]
     },
     "execution_count": 59,
     "metadata": {},
     "output_type": "execute_result"
    }
   ],
   "source": [
    "\"ABC%10s\" % \"DEF\" "
   ]
  },
  {
   "cell_type": "code",
   "execution_count": 60,
   "id": "f8c55776-c46a-4c64-8987-8d7d7883c568",
   "metadata": {},
   "outputs": [
    {
     "data": {
      "text/plain": [
       "'ABC       DEF'"
      ]
     },
     "execution_count": 60,
     "metadata": {},
     "output_type": "execute_result"
    }
   ],
   "source": [
    "\"%-10sDEF\" % \"ABC\""
   ]
  },
  {
   "cell_type": "code",
   "execution_count": 61,
   "id": "f8a1235b-ebb0-4bd4-a03d-e00c54a0eded",
   "metadata": {},
   "outputs": [
    {
     "data": {
      "text/plain": [
       "'   12.1235'"
      ]
     },
     "execution_count": 61,
     "metadata": {},
     "output_type": "execute_result"
    }
   ],
   "source": [
    "\"%10.4f\" % 12.12345678 # 반올림되어 12.1235 나옴 "
   ]
  },
  {
   "cell_type": "code",
   "execution_count": 63,
   "id": "6e92f8be-5c8b-4faf-8bc6-a536c7fe4851",
   "metadata": {},
   "outputs": [
    {
     "data": {
      "text/plain": [
       "'12341234.1234'"
      ]
     },
     "execution_count": 63,
     "metadata": {},
     "output_type": "execute_result"
    }
   ],
   "source": [
    "# \"%0.4f\" % 12341234.12341234\n",
    "\"%.4f\" % 12341234.12341234"
   ]
  },
  {
   "cell_type": "code",
   "execution_count": 64,
   "id": "51654632-31e9-4205-95bc-0cacd99109ff",
   "metadata": {},
   "outputs": [
    {
     "data": {
      "text/plain": [
       "'I eat 3 apples.'"
      ]
     },
     "execution_count": 64,
     "metadata": {},
     "output_type": "execute_result"
    }
   ],
   "source": [
    "\"I eat {0} apples.\".format(3) # 숫자 대입"
   ]
  },
  {
   "cell_type": "code",
   "execution_count": 65,
   "id": "ce3f2b4b-2b91-4c07-98bd-f6c3883a9763",
   "metadata": {},
   "outputs": [
    {
     "data": {
      "text/plain": [
       "'I eat three apples.'"
      ]
     },
     "execution_count": 65,
     "metadata": {},
     "output_type": "execute_result"
    }
   ],
   "source": [
    "\"I eat {0} apples.\".format(\"three\") # 문자 대입"
   ]
  },
  {
   "cell_type": "code",
   "execution_count": 66,
   "id": "4680aec4-9279-4824-b2f8-8a8530ed567b",
   "metadata": {},
   "outputs": [
    {
     "data": {
      "text/plain": [
       "'I eat 3 apples and five breads'"
      ]
     },
     "execution_count": 66,
     "metadata": {},
     "output_type": "execute_result"
    }
   ],
   "source": [
    "\"I eat {0} apples and {1} breads\".format(3, \"five\") # 숫자, 문자 동시 대입"
   ]
  },
  {
   "cell_type": "code",
   "execution_count": 69,
   "id": "a3063ebe-00d3-4e0d-9211-fa2aedd4cddd",
   "metadata": {},
   "outputs": [
    {
     "data": {
      "text/plain": [
       "'I eat 3,5 apples and five breads'"
      ]
     },
     "execution_count": 69,
     "metadata": {},
     "output_type": "execute_result"
    }
   ],
   "source": [
    "\"I eat {num1} apples and {num2} breads\".format(num1=3, num2=5) # 이름으로 대입 \n",
    "\"I eat {num1} apples and {num2} breads\".format(num2=5, num1=3) # 순서 바꿔도 가능 \n",
    "\"I eat {0},{1} apples and {num} breads\".format(3,5, num=\"five\") # 숫자와 문자 동시 대입 시 순서 바뀌면 오류 발생! "
   ]
  },
  {
   "cell_type": "code",
   "execution_count": 75,
   "id": "3ab58c46-1682-426d-ad3a-db9e5c95c103",
   "metadata": {},
   "outputs": [
    {
     "data": {
      "text/plain": [
       "'안녕!!!!!!!!'"
      ]
     },
     "execution_count": 75,
     "metadata": {},
     "output_type": "execute_result"
    }
   ],
   "source": [
    "\"{0:<10}\".format(\"안녕\") # 왼쪽 정렬 \n",
    "\"{0:!<10}\".format(\"안녕\") # 공백을 !로 채움"
   ]
  },
  {
   "cell_type": "code",
   "execution_count": 71,
   "id": "a531db81-acb3-40ce-afe6-10edc719133c",
   "metadata": {},
   "outputs": [
    {
     "data": {
      "text/plain": [
       "'        안녕'"
      ]
     },
     "execution_count": 71,
     "metadata": {},
     "output_type": "execute_result"
    }
   ],
   "source": [
    "\"{0:>10}\".format(\"안녕\") # 오른쪽 정렬 "
   ]
  },
  {
   "cell_type": "code",
   "execution_count": 76,
   "id": "50d4aaa7-e765-4f4d-afb1-9f64dce8a9a9",
   "metadata": {},
   "outputs": [
    {
     "data": {
      "text/plain": [
       "'****안녕****'"
      ]
     },
     "execution_count": 76,
     "metadata": {},
     "output_type": "execute_result"
    }
   ],
   "source": [
    "\"{0:^10}\".format(\"안녕\") # 가운데 정렬 \n",
    "\"{0:*^10}\".format(\"안녕\") # 공백을 *로 채움 (왼쪽, 오른쪽 정렬 모두 가능) "
   ]
  },
  {
   "cell_type": "code",
   "execution_count": 79,
   "id": "4584b71b-bec0-46a7-bd45-6d2e4ca8e252",
   "metadata": {},
   "outputs": [
    {
     "data": {
      "text/plain": [
       "'100.123'"
      ]
     },
     "execution_count": 79,
     "metadata": {},
     "output_type": "execute_result"
    }
   ],
   "source": [
    "\"{0:0.3f}\".format(100.12345678) # 소수점 표현하기 "
   ]
  },
  {
   "cell_type": "code",
   "execution_count": 82,
   "id": "d3fcb3a1-ac2d-4434-9ce2-5dbc3c2b30fd",
   "metadata": {},
   "outputs": [
    {
     "data": {
      "text/plain": [
       "'{  number1 } - 100'"
      ]
     },
     "execution_count": 82,
     "metadata": {},
     "output_type": "execute_result"
    }
   ],
   "source": [
    "\"{{  number1 }} - {0}\".format(100) # { }를 문자로 인식하려면 {{ }} 형태로 사용해야함 "
   ]
  },
  {
   "cell_type": "code",
   "execution_count": 84,
   "id": "49c6ff82-8958-491a-bafb-2b63f7136e42",
   "metadata": {},
   "outputs": [
    {
     "data": {
      "text/plain": [
       "'num1=10, num2=20, result=30'"
      ]
     },
     "execution_count": 84,
     "metadata": {},
     "output_type": "execute_result"
    }
   ],
   "source": [
    "num1 = 10\n",
    "num2 = 20\n",
    "f\"num1={num1}, num2={num2}, result={num1+num2}\" # f 문자열 포매팅 : 파이썬 3.6버전부터 추가됨 "
   ]
  },
  {
   "cell_type": "code",
   "execution_count": 91,
   "id": "ea7f123f-1222-46fe-9bc6-9d1c40cc2141",
   "metadata": {},
   "outputs": [
    {
     "data": {
      "text/plain": [
       "'****안녕****'"
      ]
     },
     "execution_count": 91,
     "metadata": {},
     "output_type": "execute_result"
    }
   ],
   "source": [
    "f\"{\"안녕\":<10}\"\n",
    "f\"{\"안녕\":>10}\"\n",
    "f\"{\"안녕\":^10}\"\n",
    "f\"{\"안녕\":*^10}\""
   ]
  },
  {
   "cell_type": "code",
   "execution_count": 95,
   "id": "ff20b1dc-bd30-4eb1-a4f0-97948569d0e0",
   "metadata": {},
   "outputs": [],
   "source": [
    " a = \"Life is too short, You need Python.\""
   ]
  },
  {
   "cell_type": "code",
   "execution_count": 98,
   "id": "3b4b2fc8-3788-4459-82f0-fa9c4ed078a2",
   "metadata": {},
   "outputs": [
    {
     "data": {
      "text/plain": [
       "-1"
      ]
     },
     "execution_count": 98,
     "metadata": {},
     "output_type": "execute_result"
    }
   ],
   "source": [
    "a.find(\"too\") # 8 반환\n",
    "a.find(\"tooo\") # 발견못하면 -1 반환"
   ]
  },
  {
   "cell_type": "code",
   "execution_count": 100,
   "id": "5598a580-5668-48f7-a9b5-33b413828590",
   "metadata": {},
   "outputs": [
    {
     "ename": "ValueError",
     "evalue": "substring not found",
     "output_type": "error",
     "traceback": [
      "\u001b[1;31m---------------------------------------------------------------------------\u001b[0m",
      "\u001b[1;31mValueError\u001b[0m                                Traceback (most recent call last)",
      "Cell \u001b[1;32mIn[100], line 2\u001b[0m\n\u001b[0;32m      1\u001b[0m a\u001b[38;5;241m.\u001b[39mindex(\u001b[38;5;124m\"\u001b[39m\u001b[38;5;124mtoo\u001b[39m\u001b[38;5;124m\"\u001b[39m)\n\u001b[1;32m----> 2\u001b[0m \u001b[43ma\u001b[49m\u001b[38;5;241;43m.\u001b[39;49m\u001b[43mindex\u001b[49m\u001b[43m(\u001b[49m\u001b[38;5;124;43m\"\u001b[39;49m\u001b[38;5;124;43mtooo\u001b[39;49m\u001b[38;5;124;43m\"\u001b[39;49m\u001b[43m)\u001b[49m\n",
      "\u001b[1;31mValueError\u001b[0m: substring not found"
     ]
    }
   ],
   "source": [
    "a.index(\"too\") # 8 반환\n",
    "a.index(\"tooo\") # 발견못하면 예외발생 "
   ]
  }
 ],
 "metadata": {
  "kernelspec": {
   "display_name": "Python 3 (ipykernel)",
   "language": "python",
   "name": "python3"
  },
  "language_info": {
   "codemirror_mode": {
    "name": "ipython",
    "version": 3
   },
   "file_extension": ".py",
   "mimetype": "text/x-python",
   "name": "python",
   "nbconvert_exporter": "python",
   "pygments_lexer": "ipython3",
   "version": "3.12.7"
  }
 },
 "nbformat": 4,
 "nbformat_minor": 5
}
