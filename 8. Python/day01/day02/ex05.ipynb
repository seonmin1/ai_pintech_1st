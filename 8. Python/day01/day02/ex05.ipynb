{
 "cells": [
  {
   "cell_type": "code",
   "execution_count": 1,
   "id": "759f06a4-c7df-4da1-8a93-df31a2353010",
   "metadata": {},
   "outputs": [],
   "source": [
    "a = \"\"\n",
    "b = \"1\"\n",
    "c = \"  \" # 공백"
   ]
  },
  {
   "cell_type": "code",
   "execution_count": 3,
   "id": "7b32cb72-5e24-4eb3-af43-26e9897ea115",
   "metadata": {},
   "outputs": [
    {
     "name": "stdout",
     "output_type": "stream",
     "text": [
      "거짓\n"
     ]
    }
   ],
   "source": [
    "if a :\n",
    "    print(\"참\")\n",
    "else :\n",
    "    print(\"거짓\")"
   ]
  },
  {
   "cell_type": "code",
   "execution_count": 4,
   "id": "e0deef1c-691a-4a9d-a7eb-c61d41d0e4f8",
   "metadata": {},
   "outputs": [
    {
     "name": "stdout",
     "output_type": "stream",
     "text": [
      "참\n"
     ]
    }
   ],
   "source": [
    "if b :\n",
    "    print(\"참\")\n",
    "else :\n",
    "    print(\"거짓\")"
   ]
  },
  {
   "cell_type": "code",
   "execution_count": 5,
   "id": "7bd15487-9fdc-40cb-a278-e05622bcec1f",
   "metadata": {},
   "outputs": [
    {
     "name": "stdout",
     "output_type": "stream",
     "text": [
      "참\n"
     ]
    }
   ],
   "source": [
    "if c :\n",
    "    print(\"참\") # 공백도 하나의 문자로 취급 \n",
    "else :\n",
    "    print(\"거짓\")"
   ]
  },
  {
   "cell_type": "code",
   "execution_count": 6,
   "id": "134d9aa8-d83a-4e68-bbb0-1d3d1c51f7ed",
   "metadata": {},
   "outputs": [
    {
     "name": "stdout",
     "output_type": "stream",
     "text": [
      "False\n",
      "True\n",
      "False\n",
      "False\n",
      "False\n"
     ]
    }
   ],
   "source": [
    "print(bool(\"\")) # False\n",
    "print(bool(\"1\")) # True\n",
    "print(bool([])) # False\n",
    "print(bool(())) # False\n",
    "print(bool(None)) # False"
   ]
  }
 ],
 "metadata": {
  "kernelspec": {
   "display_name": "Python 3 (ipykernel)",
   "language": "python",
   "name": "python3"
  },
  "language_info": {
   "codemirror_mode": {
    "name": "ipython",
    "version": 3
   },
   "file_extension": ".py",
   "mimetype": "text/x-python",
   "name": "python",
   "nbconvert_exporter": "python",
   "pygments_lexer": "ipython3",
   "version": "3.12.7"
  }
 },
 "nbformat": 4,
 "nbformat_minor": 5
}
