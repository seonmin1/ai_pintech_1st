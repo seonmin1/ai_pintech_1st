{
 "cells": [
  {
   "cell_type": "code",
   "execution_count": 1,
   "id": "47547459-2101-4be3-b786-9ff804a5b700",
   "metadata": {},
   "outputs": [],
   "source": [
    "a = 10 # 자바의 리터럴 상수와 비슷, 재료가 되는 수는 1개의 주소를 가지고 공유 \n",
    "b = 10"
   ]
  },
  {
   "cell_type": "code",
   "execution_count": 2,
   "id": "a4f33a50-96fb-4e96-8816-946944e35d3f",
   "metadata": {},
   "outputs": [
    {
     "name": "stdout",
     "output_type": "stream",
     "text": [
      "140735923956440 140735923956440\n"
     ]
    }
   ],
   "source": [
    "print(id(a), id(b)) # a, b 주소값 동일 "
   ]
  },
  {
   "cell_type": "code",
   "execution_count": 8,
   "id": "8704e04a-dd64-4ec0-b4e0-f7f01f3b9209",
   "metadata": {},
   "outputs": [],
   "source": [
    "a = [1, 2, 3, 4, 5] # 리스트가 객체이므로 a는 객체의 주소값을 참조할 수 있는 참조 변수"
   ]
  },
  {
   "cell_type": "code",
   "execution_count": 9,
   "id": "d3b4bd73-0127-4fa3-b591-d13c59813367",
   "metadata": {},
   "outputs": [],
   "source": [
    "b = a # b는 a가 가지고 있는 주소값 대입 "
   ]
  },
  {
   "cell_type": "code",
   "execution_count": 12,
   "id": "87bfc571-7179-4663-bdcd-0bb74298a757",
   "metadata": {},
   "outputs": [],
   "source": [
    "b[1] = '둘'"
   ]
  },
  {
   "cell_type": "code",
   "execution_count": 13,
   "id": "a4d801e7-d45d-411c-9b29-7132ca3188e1",
   "metadata": {},
   "outputs": [
    {
     "name": "stdout",
     "output_type": "stream",
     "text": [
      "[1, '둘', 3, 4, 5]\n"
     ]
    }
   ],
   "source": [
    "print(b)"
   ]
  },
  {
   "cell_type": "code",
   "execution_count": 14,
   "id": "e103de0a-5b6e-41dc-a40a-9c68acabdd58",
   "metadata": {},
   "outputs": [
    {
     "name": "stdout",
     "output_type": "stream",
     "text": [
      "[1, '둘', 3, 4, 5]\n"
     ]
    }
   ],
   "source": [
    "print(a)"
   ]
  },
  {
   "cell_type": "code",
   "execution_count": 15,
   "id": "5a8cf5ca-c993-459e-9119-37cc1fc37672",
   "metadata": {},
   "outputs": [
    {
     "name": "stdout",
     "output_type": "stream",
     "text": [
      "2152126570816 2152126570816\n"
     ]
    }
   ],
   "source": [
    "print(id(a), id(b)) # a, b 주소값 동일 "
   ]
  },
  {
   "cell_type": "code",
   "execution_count": 16,
   "id": "41495bcf-9822-45a1-98e7-cdec816db006",
   "metadata": {},
   "outputs": [
    {
     "data": {
      "text/plain": [
       "True"
      ]
     },
     "execution_count": 16,
     "metadata": {},
     "output_type": "execute_result"
    }
   ],
   "source": [
    "a == b # 주소 비교 "
   ]
  },
  {
   "cell_type": "code",
   "execution_count": 17,
   "id": "ed0b1c7d-415d-4a11-92ed-bfe7e9d58124",
   "metadata": {},
   "outputs": [
    {
     "data": {
      "text/plain": [
       "True"
      ]
     },
     "execution_count": 17,
     "metadata": {},
     "output_type": "execute_result"
    }
   ],
   "source": [
    "a is b # 주소 비교 (is : a와 b가 같은 객체를 참조하는지 체크하는 연산자)"
   ]
  },
  {
   "cell_type": "code",
   "execution_count": 18,
   "id": "108be426-d46b-4a88-9585-6df89499a4f7",
   "metadata": {},
   "outputs": [],
   "source": [
    "a = [1, 2, 3, 4, 5]"
   ]
  },
  {
   "cell_type": "code",
   "execution_count": 19,
   "id": "57f6e690-03ee-4705-94b8-0eee421e3407",
   "metadata": {},
   "outputs": [],
   "source": [
    "b = a[:] # 전체 값을 복사해서 새로운 리스트 객체 생성 "
   ]
  },
  {
   "cell_type": "code",
   "execution_count": 20,
   "id": "a355416b-d98c-4e60-96b3-04de4ce05739",
   "metadata": {},
   "outputs": [],
   "source": [
    "b[1] = '둘'"
   ]
  },
  {
   "cell_type": "code",
   "execution_count": 22,
   "id": "7924f4e5-5f1c-4b98-a950-ab3f6b6edfa6",
   "metadata": {},
   "outputs": [
    {
     "name": "stdout",
     "output_type": "stream",
     "text": [
      "[1, 2, 3, 4, 5] [1, '둘', 3, 4, 5] 2152104949184 2152126440960\n"
     ]
    }
   ],
   "source": [
    "print(a, b, id(a), id(b))"
   ]
  },
  {
   "cell_type": "code",
   "execution_count": 23,
   "id": "fcd613f2-75d9-4efb-aacf-28698808a98e",
   "metadata": {},
   "outputs": [],
   "source": [
    "c = a.copy() # 전체 값을 복사해서 새로운 리스트 객체 생성"
   ]
  },
  {
   "cell_type": "code",
   "execution_count": 24,
   "id": "3d912121-0b4f-4e74-9fa4-285c8cf8cfc4",
   "metadata": {},
   "outputs": [],
   "source": [
    "c[2] = '셋'"
   ]
  },
  {
   "cell_type": "code",
   "execution_count": 25,
   "id": "7121d781-18d6-4f68-82d6-0c20eb720d7a",
   "metadata": {},
   "outputs": [
    {
     "name": "stdout",
     "output_type": "stream",
     "text": [
      "[1, 2, 3, 4, 5] [1, 2, '셋', 4, 5] 2152104949184 2152126608320\n"
     ]
    }
   ],
   "source": [
    "print(a, c, id(a), id(c))"
   ]
  },
  {
   "cell_type": "code",
   "execution_count": 26,
   "id": "b7de9489-adb9-4cfe-9ec3-65296fedbd6f",
   "metadata": {},
   "outputs": [],
   "source": [
    "[a, b] = ['사과', ' 오렌지']"
   ]
  },
  {
   "cell_type": "code",
   "execution_count": 27,
   "id": "5d23992f-8784-461b-85af-dd0527e78c30",
   "metadata": {},
   "outputs": [
    {
     "name": "stdout",
     "output_type": "stream",
     "text": [
      "사과  오렌지\n"
     ]
    }
   ],
   "source": [
    "print(a, b)"
   ]
  }
 ],
 "metadata": {
  "kernelspec": {
   "display_name": "Python 3 (ipykernel)",
   "language": "python",
   "name": "python3"
  },
  "language_info": {
   "codemirror_mode": {
    "name": "ipython",
    "version": 3
   },
   "file_extension": ".py",
   "mimetype": "text/x-python",
   "name": "python",
   "nbconvert_exporter": "python",
   "pygments_lexer": "ipython3",
   "version": "3.12.7"
  }
 },
 "nbformat": 4,
 "nbformat_minor": 5
}
