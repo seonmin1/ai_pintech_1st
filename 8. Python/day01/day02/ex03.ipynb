{
 "cells": [
  {
   "cell_type": "code",
   "execution_count": 1,
   "id": "512a2933-5594-472a-a815-956dd6d1170f",
   "metadata": {},
   "outputs": [],
   "source": [
    "person = {'name': '이이름', 'age': 40} # 딕셔너리 자료형"
   ]
  },
  {
   "cell_type": "code",
   "execution_count": 8,
   "id": "d9be067d-d3c1-417a-870d-b9d0f97e8bcc",
   "metadata": {},
   "outputs": [
    {
     "data": {
      "text/plain": [
       "'이이름'"
      ]
     },
     "execution_count": 8,
     "metadata": {},
     "output_type": "execute_result"
    }
   ],
   "source": [
    "person['name'] # person의 name 값 조회 "
   ]
  },
  {
   "cell_type": "code",
   "execution_count": 7,
   "id": "4dfaa47e-620a-41b4-94aa-cef59075d714",
   "metadata": {},
   "outputs": [
    {
     "data": {
      "text/plain": [
       "{'name': '이이름', 'age': 40, 'address': '주소'}"
      ]
     },
     "execution_count": 7,
     "metadata": {},
     "output_type": "execute_result"
    }
   ],
   "source": [
    "person['address'] = '주소' # 추가\n",
    "person"
   ]
  },
  {
   "cell_type": "code",
   "execution_count": 9,
   "id": "beedd7f4-b4d5-4417-b318-853007888099",
   "metadata": {},
   "outputs": [
    {
     "data": {
      "text/plain": [
       "{'name': '(수정)이이름', 'age': 40, 'address': '주소'}"
      ]
     },
     "execution_count": 9,
     "metadata": {},
     "output_type": "execute_result"
    }
   ],
   "source": [
    "person['name'] =  '(수정)이이름' # 수정\n",
    "person"
   ]
  },
  {
   "cell_type": "code",
   "execution_count": 10,
   "id": "2df15901-7c6e-457a-8130-fe75db523f15",
   "metadata": {},
   "outputs": [
    {
     "data": {
      "text/plain": [
       "{'name': '(수정)이이름', 'age': 40}"
      ]
     },
     "execution_count": 10,
     "metadata": {},
     "output_type": "execute_result"
    }
   ],
   "source": [
    "del person['address'] # 삭제\n",
    "person"
   ]
  },
  {
   "cell_type": "code",
   "execution_count": 2,
   "id": "1340694b-a6f0-408e-a535-12cf641392b5",
   "metadata": {},
   "outputs": [
    {
     "data": {
      "text/plain": [
       "{'name': '이이름', 'age': 40}"
      ]
     },
     "execution_count": 2,
     "metadata": {},
     "output_type": "execute_result"
    }
   ],
   "source": [
    "person"
   ]
  },
  {
   "cell_type": "code",
   "execution_count": 3,
   "id": "53808dfd-baae-407d-98eb-3c50756e2c55",
   "metadata": {},
   "outputs": [
    {
     "data": {
      "text/plain": [
       "dict"
      ]
     },
     "execution_count": 3,
     "metadata": {},
     "output_type": "execute_result"
    }
   ],
   "source": [
    "type(person)"
   ]
  },
  {
   "cell_type": "code",
   "execution_count": 16,
   "id": "3f4f9461-465d-4633-829d-c56b28e0bb0a",
   "metadata": {},
   "outputs": [],
   "source": [
    "person = {\"name\": \"이이름\"}"
   ]
  },
  {
   "cell_type": "code",
   "execution_count": 14,
   "id": "71ef3033-54cb-44e1-aeb4-7d8e5e4f28ad",
   "metadata": {},
   "outputs": [
    {
     "ename": "TypeError",
     "evalue": "'set' object is not subscriptable",
     "output_type": "error",
     "traceback": [
      "\u001b[1;31m---------------------------------------------------------------------------\u001b[0m",
      "\u001b[1;31mTypeError\u001b[0m                                 Traceback (most recent call last)",
      "Cell \u001b[1;32mIn[14], line 1\u001b[0m\n\u001b[1;32m----> 1\u001b[0m \u001b[43mperson\u001b[49m\u001b[43m[\u001b[49m\u001b[38;5;124;43m'\u001b[39;49m\u001b[38;5;124;43mage\u001b[39;49m\u001b[38;5;124;43m'\u001b[39;49m\u001b[43m]\u001b[49m\n",
      "\u001b[1;31mTypeError\u001b[0m: 'set' object is not subscriptable"
     ]
    }
   ],
   "source": [
    "person['age'] # 예외 발생"
   ]
  },
  {
   "cell_type": "code",
   "execution_count": 17,
   "id": "f5d7c932-67c8-4895-8d4f-6b3f23ec56fc",
   "metadata": {},
   "outputs": [],
   "source": [
    "person.get('age') # get 메서드 사용 시 예외 발생 X"
   ]
  },
  {
   "cell_type": "code",
   "execution_count": 18,
   "id": "d98a2340-303e-4138-ad80-c6bead786a34",
   "metadata": {},
   "outputs": [
    {
     "data": {
      "text/plain": [
       "40"
      ]
     },
     "execution_count": 18,
     "metadata": {},
     "output_type": "execute_result"
    }
   ],
   "source": [
    "person.get('age', 40) # 기본값 40으로 설정 "
   ]
  },
  {
   "cell_type": "code",
   "execution_count": 19,
   "id": "80eec4b2-2285-478a-b7f2-af692b892cc3",
   "metadata": {},
   "outputs": [],
   "source": [
    "person = {\"name\": \"이이름\", \"age\": 40}"
   ]
  },
  {
   "cell_type": "code",
   "execution_count": 20,
   "id": "65c2e429-96b6-40bc-8552-848d60bfaa32",
   "metadata": {},
   "outputs": [
    {
     "name": "stdout",
     "output_type": "stream",
     "text": [
      "dict_keys(['name', 'age']) dict_values(['이이름', 40])\n"
     ]
    }
   ],
   "source": [
    "keys = person.keys() # 키 목록 조회\n",
    "values = person.values() # 값 목록 조회 \n",
    "print(keys, values)"
   ]
  },
  {
   "cell_type": "code",
   "execution_count": 22,
   "id": "cc755ae1-206b-4b3a-b06a-93148acad582",
   "metadata": {},
   "outputs": [
    {
     "name": "stdout",
     "output_type": "stream",
     "text": [
      "['이이름', 40]\n"
     ]
    }
   ],
   "source": [
    "values2 = list(values) # 리스트로 반환 \n",
    "print(values2)"
   ]
  },
  {
   "cell_type": "code",
   "execution_count": 23,
   "id": "3a8b926d-f1fc-4de6-b96a-add4d14d7d2d",
   "metadata": {},
   "outputs": [
    {
     "name": "stdout",
     "output_type": "stream",
     "text": [
      "dict_items([('name', '이이름'), ('age', 40)])\n"
     ]
    }
   ],
   "source": [
    "items = person.items() # 키, 값의 쌍\n",
    "print(items) # 튜플 형태로 반환 "
   ]
  },
  {
   "cell_type": "code",
   "execution_count": 24,
   "id": "e5131f78-92d5-4914-ae51-6fffb1fdd211",
   "metadata": {},
   "outputs": [
    {
     "name": "stdout",
     "output_type": "stream",
     "text": [
      "name 이이름\n",
      "age 40\n"
     ]
    }
   ],
   "source": [
    "for (name, age) in items: # 중괄호 대신 콜론(:) 사용 - 콜론 뒤에 수행될 함수 적기\n",
    "    print(name, age)"
   ]
  },
  {
   "cell_type": "code",
   "execution_count": 25,
   "id": "82584b43-8ef1-4c52-b398-d1e603d60b3c",
   "metadata": {},
   "outputs": [
    {
     "data": {
      "text/plain": [
       "True"
      ]
     },
     "execution_count": 25,
     "metadata": {},
     "output_type": "execute_result"
    }
   ],
   "source": [
    "'name' in person "
   ]
  },
  {
   "cell_type": "code",
   "execution_count": null,
   "id": "5e7ec9a3-c247-42ea-b028-34ac08e17381",
   "metadata": {},
   "outputs": [],
   "source": []
  }
 ],
 "metadata": {
  "kernelspec": {
   "display_name": "Python 3 (ipykernel)",
   "language": "python",
   "name": "python3"
  },
  "language_info": {
   "codemirror_mode": {
    "name": "ipython",
    "version": 3
   },
   "file_extension": ".py",
   "mimetype": "text/x-python",
   "name": "python",
   "nbconvert_exporter": "python",
   "pygments_lexer": "ipython3",
   "version": "3.12.7"
  }
 },
 "nbformat": 4,
 "nbformat_minor": 5
}
