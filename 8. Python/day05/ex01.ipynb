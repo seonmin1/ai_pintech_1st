{
 "cells": [
  {
   "cell_type": "code",
   "execution_count": 3,
   "id": "fe08d919-3016-4ae5-be60-4e30c55a1ae4",
   "metadata": {},
   "outputs": [
    {
     "name": "stdout",
     "output_type": "stream",
     "text": [
      "예외 발생\n",
      "매우 중요한 코드! 꼭 실행되어야 함\n"
     ]
    }
   ],
   "source": [
    "try: # 예외가 발생할 가능성이 있는 코드 구간 \n",
    "    num1 = 10\n",
    "    num2 = 0\n",
    "    result = num1 / num2 # ZeroDivisionError 발생!\n",
    "    print(result)\n",
    "except: # 예외에 대한 처리 구간 \n",
    "    print(\"예외 발생\")\n",
    "\n",
    "print(\"매우 중요한 코드! 꼭 실행되어야 함\")"
   ]
  },
  {
   "cell_type": "code",
   "execution_count": 11,
   "id": "e5b9eaf1-a7f5-4412-a593-ab9aed0741d3",
   "metadata": {},
   "outputs": [
    {
     "name": "stdout",
     "output_type": "stream",
     "text": [
      "예외 발생\n",
      "매우 중요한 코드! 꼭 실행되어야 함\n"
     ]
    }
   ],
   "source": [
    "try: # 예외가 발생할 가능성이 있는 코드 구간 \n",
    "    num1 = 10\n",
    "    num2 = 0\n",
    "    result = num1 / num2 # ZeroDivisionError 발생!\n",
    "    print(result)\n",
    "except ZeroDivisionError: # 예외에 대한 처리 구간 - 발생한 예외 명시 가능!\n",
    "    print(\"예외 발생\")\n",
    "\n",
    "print(\"매우 중요한 코드! 꼭 실행되어야 함\")"
   ]
  },
  {
   "cell_type": "code",
   "execution_count": 23,
   "id": "e1d4af35-7b7d-4636-a169-933231e1ed3d",
   "metadata": {},
   "outputs": [
    {
     "name": "stdout",
     "output_type": "stream",
     "text": [
      "5.0\n",
      "'망고' is not in list\n",
      "Traceback (most recent call last):\n",
      "  File \"C:\\Users\\admin\\AppData\\Local\\Temp\\ipykernel_11500\\3965621777.py\", line 10, in <module>\n",
      "    pos = fruits.index('망고') # ValueError 발생!\n",
      "          ^^^^^^^^^^^^^^^^^^^^\n",
      "ValueError: '망고' is not in list\n",
      "\n",
      "매우 중요한 코드! 꼭 실행되어야 함\n"
     ]
    }
   ],
   "source": [
    "import traceback\n",
    "\n",
    "try: # 예외가 발생할 가능성이 있는 코드 구간 \n",
    "    num1 = 10\n",
    "    num2 = 2\n",
    "    result = num1 / num2 # ZeroDivisionError 발생!\n",
    "    print(result)\n",
    "\n",
    "    fruits = ['사과', '멜론', '오렌지']\n",
    "    pos = fruits.index('망고') # ValueError 발생!\n",
    "    print(pos)\n",
    "except ZeroDivisionError as e: # 예외에 대한 처리 구간, e : 발생한 예외 객체 참조 변수 \n",
    "    # print(\"예외 발생\")\n",
    "     # 예외 메세print(e)지 호출 - __str__ 호출됨 \n",
    "    print(traceback.format_exc()) # 예외 발생에 대한 자세한 정보 확인 \n",
    "except ValueError as e: # 다중 예외 처리 가능 \n",
    "    # print(\"예외 발생\")\n",
    "    print(e)\n",
    "    print(traceback.format_exc())\n",
    "\n",
    "print(\"매우 중요한 코드! 꼭 실행되어야 함\")"
   ]
  },
  {
   "cell_type": "code",
   "execution_count": 43,
   "id": "4f9d6150-51d9-493c-be84-ee773a827f6a",
   "metadata": {},
   "outputs": [
    {
     "name": "stdout",
     "output_type": "stream",
     "text": [
      "5.0\n",
      "매우 중요한 코드! 꼭 실행되어야 함\n"
     ]
    }
   ],
   "source": [
    "try: # 예외가 발생할 가능성이 있는 코드 구간 \n",
    "    num1 = 10\n",
    "    num2 = 2\n",
    "    result = num1 / num2 # ZeroDivisionError 발생!\n",
    "    print(result)\n",
    "\n",
    "    fruits = ['사과', '멜론', '오렌지']\n",
    "    pos = fruits.index('망고') # ValueError 발생!\n",
    "    print(pos)\n",
    "except (ZeroDivisionError, ValueError): # 다중 예외 처리 - 튜플로 나열 가능!\n",
    "    pass # 오류 처리 안하겠다!, 아무것도 안하겠다!\n",
    "\n",
    "print(\"매우 중요한 코드! 꼭 실행되어야 함\")"
   ]
  },
  {
   "cell_type": "code",
   "execution_count": 39,
   "id": "b5224165-8c4d-4bf6-9512-34382c5d960e",
   "metadata": {},
   "outputs": [
    {
     "name": "stdout",
     "output_type": "stream",
     "text": [
      "5.0\n",
      "잘 처리됨...\n",
      "매우 중요한 코드! 꼭 실행되어야 함\n"
     ]
    }
   ],
   "source": [
    "try: # 예외가 발생할 가능성이 있는 코드 구간 \n",
    "    num1 = 10\n",
    "    num2 = 2\n",
    "    result = num1 / num2 # ZeroDivisionError 발생!\n",
    "    print(result)\n",
    "except Exception: # 다형성, 예외가 발생하면 실행\n",
    "    print(\"예외 발생\")\n",
    "else: # 예외가 발생하지 않으면 실행되는 구간\n",
    "    print(\"잘 처리됨...\")\n",
    "\n",
    "print(\"매우 중요한 코드! 꼭 실행되어야 함\")"
   ]
  },
  {
   "cell_type": "code",
   "execution_count": 25,
   "id": "93c74e7e-b3cf-4698-8b40-aa135e2a24e6",
   "metadata": {},
   "outputs": [],
   "source": [
    "def add(a, b):\n",
    "    return a + b # return 하면 함수 종료!\n",
    "    print(\"실행!\") # 실행 안됨 "
   ]
  },
  {
   "cell_type": "code",
   "execution_count": 27,
   "id": "fdb0d059-4547-4787-8757-c457b7e2c778",
   "metadata": {},
   "outputs": [
    {
     "data": {
      "text/plain": [
       "30"
      ]
     },
     "execution_count": 27,
     "metadata": {},
     "output_type": "execute_result"
    }
   ],
   "source": [
    "add(10, 20)"
   ]
  },
  {
   "cell_type": "code",
   "execution_count": 29,
   "id": "eeac6400-d8ea-4c69-b201-d07e92535f49",
   "metadata": {},
   "outputs": [],
   "source": [
    "def add(a, b):\n",
    "    try:\n",
    "        return a + b # return 하면 함수 종료!\n",
    "    finally:\n",
    "        print(\"실행!\") # finally는 return 이후에도 실행됨"
   ]
  },
  {
   "cell_type": "code",
   "execution_count": 31,
   "id": "d6f1c75c-1723-42f7-904c-bc625f657506",
   "metadata": {},
   "outputs": [
    {
     "name": "stdout",
     "output_type": "stream",
     "text": [
      "실행!\n"
     ]
    },
    {
     "data": {
      "text/plain": [
       "30"
      ]
     },
     "execution_count": 31,
     "metadata": {},
     "output_type": "execute_result"
    }
   ],
   "source": [
    "add(10, 20)"
   ]
  },
  {
   "cell_type": "code",
   "execution_count": 45,
   "id": "af524166-515d-45f6-bb7e-3e68c93974a6",
   "metadata": {},
   "outputs": [],
   "source": [
    "def login(user_id, user_pass):\n",
    "    if user_id != 'user01':\n",
    "        raise Exception(\"아이디가 일치하지 않습니다.\")\n",
    "\n",
    "    if user_pass != '1234':\n",
    "        raise Exception(\"비밀번호가 일치하지 않습니다.\")\n",
    "\n",
    "    print(\"로그인 성공!\")"
   ]
  },
  {
   "cell_type": "code",
   "execution_count": 47,
   "id": "09670761-499f-4e51-a881-08c51bcef234",
   "metadata": {},
   "outputs": [
    {
     "name": "stdout",
     "output_type": "stream",
     "text": [
      "로그인 성공!\n"
     ]
    }
   ],
   "source": [
    "login(\"user01\", \"1234\")"
   ]
  },
  {
   "cell_type": "code",
   "execution_count": 49,
   "id": "99ba338a-962a-4dff-b31d-9cc76b1cd465",
   "metadata": {},
   "outputs": [
    {
     "ename": "Exception",
     "evalue": "아이디가 일치하지 않습니다.",
     "output_type": "error",
     "traceback": [
      "\u001b[1;31m---------------------------------------------------------------------------\u001b[0m",
      "\u001b[1;31mException\u001b[0m                                 Traceback (most recent call last)",
      "Cell \u001b[1;32mIn[49], line 1\u001b[0m\n\u001b[1;32m----> 1\u001b[0m \u001b[43mlogin\u001b[49m\u001b[43m(\u001b[49m\u001b[38;5;124;43m\"\u001b[39;49m\u001b[38;5;124;43muser02\u001b[39;49m\u001b[38;5;124;43m\"\u001b[39;49m\u001b[43m,\u001b[49m\u001b[43m \u001b[49m\u001b[38;5;124;43m\"\u001b[39;49m\u001b[38;5;124;43m1234\u001b[39;49m\u001b[38;5;124;43m\"\u001b[39;49m\u001b[43m)\u001b[49m\n",
      "Cell \u001b[1;32mIn[45], line 3\u001b[0m, in \u001b[0;36mlogin\u001b[1;34m(user_id, user_pass)\u001b[0m\n\u001b[0;32m      1\u001b[0m \u001b[38;5;28;01mdef\u001b[39;00m \u001b[38;5;21mlogin\u001b[39m(user_id, user_pass):\n\u001b[0;32m      2\u001b[0m     \u001b[38;5;28;01mif\u001b[39;00m user_id \u001b[38;5;241m!=\u001b[39m \u001b[38;5;124m'\u001b[39m\u001b[38;5;124muser01\u001b[39m\u001b[38;5;124m'\u001b[39m:\n\u001b[1;32m----> 3\u001b[0m         \u001b[38;5;28;01mraise\u001b[39;00m \u001b[38;5;167;01mException\u001b[39;00m(\u001b[38;5;124m\"\u001b[39m\u001b[38;5;124m아이디가 일치하지 않습니다.\u001b[39m\u001b[38;5;124m\"\u001b[39m)\n\u001b[0;32m      5\u001b[0m     \u001b[38;5;28;01mif\u001b[39;00m user_pass \u001b[38;5;241m!=\u001b[39m \u001b[38;5;124m'\u001b[39m\u001b[38;5;124m1234\u001b[39m\u001b[38;5;124m'\u001b[39m:\n\u001b[0;32m      6\u001b[0m         \u001b[38;5;28;01mraise\u001b[39;00m \u001b[38;5;167;01mException\u001b[39;00m(\u001b[38;5;124m\"\u001b[39m\u001b[38;5;124m비밀번호가 일치하지 않습니다.\u001b[39m\u001b[38;5;124m\"\u001b[39m)\n",
      "\u001b[1;31mException\u001b[0m: 아이디가 일치하지 않습니다."
     ]
    }
   ],
   "source": [
    "login(\"user02\", \"1234\")"
   ]
  },
  {
   "cell_type": "code",
   "execution_count": 77,
   "id": "9a42c558-eae7-498e-a48e-7a0d2bbd9f8a",
   "metadata": {},
   "outputs": [],
   "source": [
    "class UserIdException(Exception): # Exception 클래스를 상속받으면 예외클래스 된다.\n",
    "    def __init__(self, message):\n",
    "        self.message = message\n",
    "    \n",
    "    def __str__(self):\n",
    "        return self.message\n",
    "\n",
    "class UserPassException(Exception):\n",
    "    def __init__(self, message):\n",
    "        self.message = message\n",
    "        \n",
    "    def __str__(self):\n",
    "        return self.message"
   ]
  },
  {
   "cell_type": "code",
   "execution_count": 79,
   "id": "784ffcf3-3425-4f46-9319-bfee54758f5c",
   "metadata": {},
   "outputs": [],
   "source": [
    "def login(userId, userPass):\n",
    "    if userId != 'user01':\n",
    "        raise UserIdException(\"아이디가 일치하지 않습니다.\")\n",
    "\n",
    "    if userPass != '1234':\n",
    "        raise UserPassException(\"비밀번호가 일치하지 않습니다.\")\n",
    "\n",
    "    print(\"로그인 성공...\")"
   ]
  },
  {
   "cell_type": "code",
   "execution_count": 81,
   "id": "a63363cd-8e86-447c-88e9-dd0252e1272f",
   "metadata": {},
   "outputs": [
    {
     "name": "stdout",
     "output_type": "stream",
     "text": [
      "아이디가 일치하지 않습니다.\n",
      "Traceback (most recent call last):\n",
      "  File \"C:\\Users\\admin\\AppData\\Local\\Temp\\ipykernel_11500\\1081764655.py\", line 4, in <module>\n",
      "    login('user02', '1234')\n",
      "  File \"C:\\Users\\admin\\AppData\\Local\\Temp\\ipykernel_11500\\3158958855.py\", line 3, in login\n",
      "    raise UserIdException(\"아이디가 일치하지 않습니다.\")\n",
      "UserIdException: 아이디가 일치하지 않습니다.\n",
      "\n"
     ]
    }
   ],
   "source": [
    "import traceback\n",
    "\n",
    "try:\n",
    "    login('user02', '1234')\n",
    "except (UserIdException, UserPassException) as e:\n",
    "    print(e)\n",
    "    print(traceback.format_exc())"
   ]
  }
 ],
 "metadata": {
  "kernelspec": {
   "display_name": "Python 3 (ipykernel)",
   "language": "python",
   "name": "python3"
  },
  "language_info": {
   "codemirror_mode": {
    "name": "ipython",
    "version": 3
   },
   "file_extension": ".py",
   "mimetype": "text/x-python",
   "name": "python",
   "nbconvert_exporter": "python",
   "pygments_lexer": "ipython3",
   "version": "3.12.7"
  }
 },
 "nbformat": 4,
 "nbformat_minor": 5
}
