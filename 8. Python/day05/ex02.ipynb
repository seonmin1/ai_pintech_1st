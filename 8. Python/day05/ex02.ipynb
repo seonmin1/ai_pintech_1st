{
 "cells": [
  {
   "cell_type": "code",
   "execution_count": 1,
   "id": "da2da6ae-5daf-4f1c-ad5e-d3c2a54648c5",
   "metadata": {},
   "outputs": [
    {
     "name": "stdout",
     "output_type": "stream",
     "text": [
      "True\n",
      "140713248172760 140713248172760\n"
     ]
    }
   ],
   "source": [
    "a = 10\n",
    "b = 10\n",
    "print(a == b)\n",
    "print(id(a), id(b))"
   ]
  },
  {
   "cell_type": "code",
   "execution_count": 3,
   "id": "b2688c50-b771-4394-a59a-36d9cada0142",
   "metadata": {},
   "outputs": [
    {
     "name": "stdout",
     "output_type": "stream",
     "text": [
      "140713247720368 140713247720368\n"
     ]
    }
   ],
   "source": [
    "a = \"ABC\"\n",
    "b = \"ABC\"\n",
    "print(id(a), id(b))"
   ]
  },
  {
   "cell_type": "code",
   "execution_count": 9,
   "id": "c818405b-2791-40cf-b68d-6fbae73bc7f5",
   "metadata": {},
   "outputs": [
    {
     "name": "stdout",
     "output_type": "stream",
     "text": [
      "time.struct_time(tm_year=2024, tm_mon=11, tm_mday=21, tm_hour=12, tm_min=59, tm_sec=45, tm_wday=3, tm_yday=326, tm_isdst=0)\n",
      "2024.11.21\n"
     ]
    }
   ],
   "source": [
    "import time\n",
    "\n",
    "today = time.localtime(time.time())\n",
    "print(today)\n",
    "\n",
    "strDate = time.strftime(\"%Y.%m.%d\", today)\n",
    "print(strDate)"
   ]
  },
  {
   "cell_type": "code",
   "execution_count": 15,
   "id": "b3de4eea-f85b-46b5-a6ee-fc8208526f23",
   "metadata": {},
   "outputs": [
    {
     "name": "stdout",
     "output_type": "stream",
     "text": [
      "D:/$RECYCLE.BIN\n",
      "D:/0513\n",
      "D:/2024-05_Java_kimjunyeong\n",
      "D:/2024_04_자바기반_웹개발반\n",
      "D:/2024_리액트_양지나\n",
      "D:/data.txt\n",
      "D:/data2.txt\n",
      "D:/devtools\n",
      "D:/ex\n",
      "D:/gitex\n",
      "D:/gitex2\n",
      "D:/log.txt\n",
      "D:/magabox\n",
      "D:/modex\n",
      "D:/movie\n",
      "D:/msdia80.dll\n",
      "D:/pkg\n",
      "D:/python_basic\n",
      "D:/System Volume Information\n",
      "D:/tmp\n",
      "D:/untitled\n",
      "D:/web1500_hyk\n",
      "D:/woo_megabox\n",
      "D:/이선민\n"
     ]
    }
   ],
   "source": [
    "from glob import glob\n",
    "files = glob(\"D:/*\") # D드라이브에 저장된 파일 모두 불러오기 \n",
    "for file in files:\n",
    "    print(file)"
   ]
  },
  {
   "cell_type": "code",
   "execution_count": 21,
   "id": "50495c21-5c3b-45c6-9563-20ef64466b9f",
   "metadata": {},
   "outputs": [
    {
     "name": "stdout",
     "output_type": "stream",
     "text": [
      "D:/pkg/game\\__init__.py\n"
     ]
    }
   ],
   "source": [
    "from glob import glob\n",
    "import os\n",
    "\n",
    "files = glob(\"D:/pkg/game/*\")\n",
    "\n",
    "for file in files:\n",
    "    if not os.path.isdir(file):\n",
    "        print(file)"
   ]
  }
 ],
 "metadata": {
  "kernelspec": {
   "display_name": "Python 3 (ipykernel)",
   "language": "python",
   "name": "python3"
  },
  "language_info": {
   "codemirror_mode": {
    "name": "ipython",
    "version": 3
   },
   "file_extension": ".py",
   "mimetype": "text/x-python",
   "name": "python",
   "nbconvert_exporter": "python",
   "pygments_lexer": "ipython3",
   "version": "3.12.7"
  }
 },
 "nbformat": 4,
 "nbformat_minor": 5
}
