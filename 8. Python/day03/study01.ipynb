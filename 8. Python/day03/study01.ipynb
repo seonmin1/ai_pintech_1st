{
 "cells": [
  {
   "cell_type": "code",
   "execution_count": null,
   "id": "2247e05e-62ea-4db9-a65d-52a9350adc5d",
   "metadata": {},
   "outputs": [],
   "source": [
    "# 개인 연습 "
   ]
  },
  {
   "cell_type": "code",
   "execution_count": 2,
   "id": "07f0c8a2-15c0-4699-b124-12bbee69e2e6",
   "metadata": {},
   "outputs": [
    {
     "name": "stdout",
     "output_type": "stream",
     "text": [
      "택시를 타고 가라.\n"
     ]
    }
   ],
   "source": [
    "money = True\n",
    "\n",
    "if money: print(\"택시를 타고 가라.\")\n",
    "else: print(\"걸어가라.\")"
   ]
  },
  {
   "cell_type": "code",
   "execution_count": 3,
   "id": "2f5ec008-d9a0-4fe1-90a5-2151861e7e55",
   "metadata": {},
   "outputs": [
    {
     "data": {
      "text/plain": [
       "True"
      ]
     },
     "execution_count": 3,
     "metadata": {},
     "output_type": "execute_result"
    }
   ],
   "source": [
    "x = 3\n",
    "y = 2\n",
    "x > y"
   ]
  },
  {
   "cell_type": "code",
   "execution_count": 6,
   "id": "da782b0f-2846-4e98-be7e-c0031d3091f5",
   "metadata": {},
   "outputs": [
    {
     "name": "stdout",
     "output_type": "stream",
     "text": [
      "걸어가라.\n"
     ]
    }
   ],
   "source": [
    "money = 1000\n",
    "\n",
    "if money >= 3000:\n",
    "    print(\"택시를 타고 가라.\")\n",
    "elif money >= 2000:\n",
    "    print(\"지하철을 타고 가라.\")\n",
    "else:\n",
    "    print(\"걸어가라.\")"
   ]
  },
  {
   "cell_type": "code",
   "execution_count": 9,
   "id": "5caa5408-249a-43b0-b1ed-794cbfebdc69",
   "metadata": {},
   "outputs": [
    {
     "name": "stdout",
     "output_type": "stream",
     "text": [
      "택시를 타고 가라.\n"
     ]
    }
   ],
   "source": [
    "money = 2000\n",
    "card = True\n",
    "\n",
    "if money >= 3000 or card:\n",
    "    print(\"택시를 타고 가라.\")\n",
    "else:\n",
    "    print(\"걸어가라.\")"
   ]
  },
  {
   "cell_type": "code",
   "execution_count": 12,
   "id": "208855c6-b663-4b3d-8d65-7b21bce7ca05",
   "metadata": {},
   "outputs": [
    {
     "name": "stdout",
     "output_type": "stream",
     "text": [
      "택시를 타고 가라.\n"
     ]
    }
   ],
   "source": [
    "pocket = [\"paper\", \"cellphone\", \"money\"]\n",
    "\n",
    "if \"money\" in pocket:\n",
    "    print(\"택시를 타고 가라.\")\n",
    "else:\n",
    "    print(\"걸어가라.\")"
   ]
  },
  {
   "cell_type": "code",
   "execution_count": 16,
   "id": "51b2f7d4-32f6-42b6-a76a-2f9eb187eb7f",
   "metadata": {},
   "outputs": [
    {
     "data": {
      "text/plain": [
       "True"
      ]
     },
     "execution_count": 16,
     "metadata": {},
     "output_type": "execute_result"
    }
   ],
   "source": [
    "\"a\" in \"ab\""
   ]
  },
  {
   "cell_type": "code",
   "execution_count": 18,
   "id": "f22ac76c-e76f-4023-874d-39eaaebb1fde",
   "metadata": {},
   "outputs": [
    {
     "name": "stdout",
     "output_type": "stream",
     "text": [
      "카드를 꺼내라.\n"
     ]
    }
   ],
   "source": [
    "pocket = [\"paper\", \"cellphone\", \"money\"]\n",
    "\n",
    "if \"money\" in pocket:\n",
    "    pass\n",
    "else:\n",
    "    print(\"카드를 꺼내라.\")"
   ]
  },
  {
   "cell_type": "code",
   "execution_count": 23,
   "id": "7eb760a8-8ad5-4ac9-b622-ab5e5a7e9f8b",
   "metadata": {},
   "outputs": [
    {
     "name": "stdout",
     "output_type": "stream",
     "text": [
      "고등학생\n"
     ]
    }
   ],
   "source": [
    "age = 18\n",
    "\n",
    "if age < 8:\n",
    "    print(\"유치원\")\n",
    "elif age < 14:\n",
    "    print(\"초등학생\")\n",
    "elif age < 17:\n",
    "    print(\"중학생\")\n",
    "elif age < 20:\n",
    "    print(\"고등학생\")\n",
    "else:\n",
    "    print(\"성인\")"
   ]
  },
  {
   "cell_type": "code",
   "execution_count": 28,
   "id": "293ec56c-ea43-49ed-b8bc-399dbeb2acb7",
   "metadata": {},
   "outputs": [
    {
     "name": "stdout",
     "output_type": "stream",
     "text": [
      "failure\n"
     ]
    }
   ],
   "source": [
    "score = 59\n",
    "message = \"success\" if score >= 60 else \"failure\"\n",
    "print(message)"
   ]
  }
 ],
 "metadata": {
  "kernelspec": {
   "display_name": "Python 3 (ipykernel)",
   "language": "python",
   "name": "python3"
  },
  "language_info": {
   "codemirror_mode": {
    "name": "ipython",
    "version": 3
   },
   "file_extension": ".py",
   "mimetype": "text/x-python",
   "name": "python",
   "nbconvert_exporter": "python",
   "pygments_lexer": "ipython3",
   "version": "3.12.7"
  }
 },
 "nbformat": 4,
 "nbformat_minor": 5
}
