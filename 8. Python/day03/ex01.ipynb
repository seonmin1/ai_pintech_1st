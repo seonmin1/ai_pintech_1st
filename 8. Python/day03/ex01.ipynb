{
 "cells": [
  {
   "cell_type": "code",
   "execution_count": 1,
   "id": "ca5fb430-ecb4-4667-aff1-0bf0cadc7551",
   "metadata": {},
   "outputs": [
    {
     "name": "stdout",
     "output_type": "stream",
     "text": [
      "중학생\n"
     ]
    }
   ],
   "source": [
    "age = 16\n",
    "\n",
    "if age < 8:\n",
    "    print(\"유치원\")\n",
    "elif age < 14:\n",
    "    print(\"초등학생\")\n",
    "elif age < 17:\n",
    "    print(\"중학생\")\n",
    "elif age < 20:\n",
    "    print(\"고등학생\")\n",
    "else:\n",
    "    print(\"성인\")"
   ]
  },
  {
   "cell_type": "code",
   "execution_count": 2,
   "id": "fa369022-4110-494a-b930-83c7ff628f56",
   "metadata": {},
   "outputs": [
    {
     "name": "stdout",
     "output_type": "stream",
     "text": [
      "사과가 있습니다.\n"
     ]
    }
   ],
   "source": [
    "fruits = ['사과', '오렌지', '멜론']\n",
    "\n",
    "if '사과' in fruits: # 사과가 포함되어있는지 체크 \n",
    "    print(\"사과가 있습니다.\")\n",
    "else:\n",
    "    print(\"사과가 없습니다.\")"
   ]
  },
  {
   "cell_type": "code",
   "execution_count": 3,
   "id": "49666bb1-6e2e-4d17-bad2-35d568a880c2",
   "metadata": {},
   "outputs": [
    {
     "name": "stdout",
     "output_type": "stream",
     "text": [
      "망고가 없습니다.\n"
     ]
    }
   ],
   "source": [
    "fruits = ['사과', '오렌지', '멜론']\n",
    "\n",
    "if '망고' not in fruits: # 망고가 포함되어있지 않는지 체크 \n",
    "    print(\"망고가 없습니다.\")\n",
    "else:\n",
    "    print(\"망고가 있습니다.\")"
   ]
  },
  {
   "cell_type": "code",
   "execution_count": 4,
   "id": "38adde4c-dd04-4bff-ba4e-17e5a4ded5a8",
   "metadata": {},
   "outputs": [
    {
     "ename": "SyntaxError",
     "evalue": "incomplete input (1003935394.py, line 4)",
     "output_type": "error",
     "traceback": [
      "\u001b[1;36m  Cell \u001b[1;32mIn[4], line 4\u001b[1;36m\u001b[0m\n\u001b[1;33m    \u001b[0m\n\u001b[1;37m    ^\u001b[0m\n\u001b[1;31mSyntaxError\u001b[0m\u001b[1;31m:\u001b[0m incomplete input\n"
     ]
    }
   ],
   "source": [
    "num = 10\n",
    "\n",
    "if num > 5 and num < 20: # 오류 발생! - 실행코드 작성하지 않음 \n",
    "    "
   ]
  },
  {
   "cell_type": "code",
   "execution_count": 5,
   "id": "d689b536-6cc0-45d8-aa98-3e40415829bf",
   "metadata": {},
   "outputs": [],
   "source": [
    "num = 10\n",
    "\n",
    "if num > 5 and num < 20:\n",
    "    pass # 아무것도 안함 "
   ]
  },
  {
   "cell_type": "code",
   "execution_count": 6,
   "id": "a1d3fea2-d95c-4f71-b969-f545fdc598e8",
   "metadata": {},
   "outputs": [],
   "source": [
    "if num > 5 and num < 20: pass # 한줄로도 작성 가능!"
   ]
  },
  {
   "cell_type": "code",
   "execution_count": 8,
   "id": "a03d3ddf-170b-47e7-902a-4754e7a11258",
   "metadata": {},
   "outputs": [
    {
     "name": "stdout",
     "output_type": "stream",
     "text": [
      "합격\n"
     ]
    }
   ],
   "source": [
    "score = 60\n",
    "result = \"합격\" if score >= 60 else \"불합격\" # 조건부 표현식 - 조건식이 참일 때 if 앞에 있는 문구 출력, 거짓일 때 else 뒤에 있는 문구 출력\n",
    "print(result)"
   ]
  },
  {
   "cell_type": "code",
   "execution_count": null,
   "id": "725d797d-0ee1-4ece-bd42-df53f6a3e539",
   "metadata": {},
   "outputs": [],
   "source": []
  }
 ],
 "metadata": {
  "kernelspec": {
   "display_name": "Python 3 (ipykernel)",
   "language": "python",
   "name": "python3"
  },
  "language_info": {
   "codemirror_mode": {
    "name": "ipython",
    "version": 3
   },
   "file_extension": ".py",
   "mimetype": "text/x-python",
   "name": "python",
   "nbconvert_exporter": "python",
   "pygments_lexer": "ipython3",
   "version": "3.12.7"
  }
 },
 "nbformat": 4,
 "nbformat_minor": 5
}
