{
 "cells": [
  {
   "cell_type": "code",
   "execution_count": 1,
   "id": "104283a7-9318-48ae-9732-3bb749693fcd",
   "metadata": {},
   "outputs": [],
   "source": [
    "def add(a, b):\n",
    "    return a + b"
   ]
  },
  {
   "cell_type": "code",
   "execution_count": 2,
   "id": "c4a50052-e5b2-4973-9b37-a0e355295fab",
   "metadata": {},
   "outputs": [
    {
     "data": {
      "text/plain": [
       "30"
      ]
     },
     "execution_count": 2,
     "metadata": {},
     "output_type": "execute_result"
    }
   ],
   "source": [
    "add(10, 20)"
   ]
  },
  {
   "cell_type": "code",
   "execution_count": 4,
   "id": "f709e3ac-8438-45ac-8f2d-e300a9394509",
   "metadata": {},
   "outputs": [],
   "source": [
    "def sub(a, b):\n",
    "    pass # 함수만 정의하고 구현체를 나중에 넣을 때 pass 사용 "
   ]
  },
  {
   "cell_type": "code",
   "execution_count": 5,
   "id": "1ee56b7f-f1c9-4455-8341-e9ad21ad8aa8",
   "metadata": {},
   "outputs": [],
   "source": [
    "def calc(a, b):\n",
    "    return a + b, a - b, a * b, a / b # 반환값이 4개가 아니라 튜플 1개 "
   ]
  },
  {
   "cell_type": "code",
   "execution_count": 7,
   "id": "7d14ebab-d378-45bf-84bf-bf9b40ea896c",
   "metadata": {},
   "outputs": [
    {
     "name": "stdout",
     "output_type": "stream",
     "text": [
      "(15, 5, 50, 2.0)\n"
     ]
    },
    {
     "data": {
      "text/plain": [
       "tuple"
      ]
     },
     "execution_count": 7,
     "metadata": {},
     "output_type": "execute_result"
    }
   ],
   "source": [
    "result = calc(10, 5)\n",
    "print(result)\n",
    "type(result)"
   ]
  },
  {
   "cell_type": "code",
   "execution_count": 8,
   "id": "172e5bda-f135-4717-b020-8e6ea15d64f7",
   "metadata": {},
   "outputs": [
    {
     "name": "stdout",
     "output_type": "stream",
     "text": [
      "15 5 50 2.0\n"
     ]
    }
   ],
   "source": [
    "r1, r2, r3, r4 = calc(10, 5)\n",
    "print(r1, r2, r3, r4)"
   ]
  },
  {
   "cell_type": "code",
   "execution_count": 13,
   "id": "c15e7a34-b9bf-4024-9460-5d4fd4a0f669",
   "metadata": {},
   "outputs": [],
   "source": [
    "def sum(num, *params):\n",
    "    print(\"num\", num, \"params\", params)\n",
    "    total = 0\n",
    "    for i in params:\n",
    "        total += i\n",
    "    return total"
   ]
  },
  {
   "cell_type": "code",
   "execution_count": 14,
   "id": "748c7362-46ff-43a6-96e6-d5b6cb4ec7de",
   "metadata": {},
   "outputs": [
    {
     "name": "stdout",
     "output_type": "stream",
     "text": [
      "num 10 params (20, 30, 40, 50)\n"
     ]
    },
    {
     "data": {
      "text/plain": [
       "140"
      ]
     },
     "execution_count": 14,
     "metadata": {},
     "output_type": "execute_result"
    }
   ],
   "source": [
    "sum(10, 20, 30, 40, 50)"
   ]
  },
  {
   "cell_type": "code",
   "execution_count": 15,
   "id": "cafb9658-9d7b-4e02-b063-b4a24e2f2164",
   "metadata": {},
   "outputs": [],
   "source": [
    "def add(a, b):\n",
    "    return a + b"
   ]
  },
  {
   "cell_type": "code",
   "execution_count": 17,
   "id": "0ab060ff-e975-4451-8771-4913dc7d117e",
   "metadata": {},
   "outputs": [
    {
     "data": {
      "text/plain": [
       "30"
      ]
     },
     "execution_count": 17,
     "metadata": {},
     "output_type": "execute_result"
    }
   ],
   "source": [
    "add(10, 20) # a = 10, b = 20"
   ]
  },
  {
   "cell_type": "code",
   "execution_count": 18,
   "id": "b4e26d80-af33-494f-ab5d-0fb2f4a4ce1a",
   "metadata": {},
   "outputs": [
    {
     "data": {
      "text/plain": [
       "30"
      ]
     },
     "execution_count": 18,
     "metadata": {},
     "output_type": "execute_result"
    }
   ],
   "source": [
    "add(b = 20, a = 10) # 순서 상관없이 매개변수에 직접 값 지정 가능 "
   ]
  },
  {
   "cell_type": "code",
   "execution_count": 19,
   "id": "3dfeb10d-1990-4de6-ac3c-f78759b44db1",
   "metadata": {},
   "outputs": [],
   "source": [
    "def words(**params):\n",
    "    print(params)"
   ]
  },
  {
   "cell_type": "code",
   "execution_count": 20,
   "id": "e9a44566-0a61-4cc2-b414-5a669ab4ab84",
   "metadata": {},
   "outputs": [
    {
     "name": "stdout",
     "output_type": "stream",
     "text": [
      "{'name': '이이름', 'age': 40, 'address': '주소'}\n"
     ]
    }
   ],
   "source": [
    "words(name = \"이이름\", age = 40, address = \"주소\")"
   ]
  },
  {
   "cell_type": "code",
   "execution_count": 21,
   "id": "2a2a22f5-3c8f-4edd-bc85-18c159f26776",
   "metadata": {},
   "outputs": [],
   "source": [
    "def get_number(num):\n",
    "    if num % 10 == 0:\n",
    "        print(\"종료!\")\n",
    "        return # 함수의 종료, 이후 코드 실행 X\n",
    "    print(num)"
   ]
  },
  {
   "cell_type": "code",
   "execution_count": 22,
   "id": "61bc0e71-b65c-467e-8726-97e4c7909338",
   "metadata": {},
   "outputs": [
    {
     "name": "stdout",
     "output_type": "stream",
     "text": [
      "종료!\n"
     ]
    }
   ],
   "source": [
    "get_number(10)"
   ]
  },
  {
   "cell_type": "code",
   "execution_count": 23,
   "id": "6da22d19-6de2-4644-b0ae-d3022a625a26",
   "metadata": {},
   "outputs": [
    {
     "name": "stdout",
     "output_type": "stream",
     "text": [
      "11\n"
     ]
    }
   ],
   "source": [
    "get_number(11)"
   ]
  },
  {
   "cell_type": "code",
   "execution_count": 24,
   "id": "b1aa7d22-c1b6-4018-8622-8219e11d064f",
   "metadata": {},
   "outputs": [],
   "source": [
    "def sum(a, b, c = 100): # 매개변수에 기본값 설정 \n",
    "    return a + b + c"
   ]
  },
  {
   "cell_type": "code",
   "execution_count": 25,
   "id": "56ba1e29-35dd-49da-b09d-8e7b30b718f1",
   "metadata": {},
   "outputs": [
    {
     "data": {
      "text/plain": [
       "130"
      ]
     },
     "execution_count": 25,
     "metadata": {},
     "output_type": "execute_result"
    }
   ],
   "source": [
    "sum(10, 20) # 매개변수 중 하나라도 없으면 기본값이 적용됨 "
   ]
  },
  {
   "cell_type": "code",
   "execution_count": 26,
   "id": "c333afc9-259e-4eab-ac29-3998e5e3a67a",
   "metadata": {},
   "outputs": [
    {
     "data": {
      "text/plain": [
       "60"
      ]
     },
     "execution_count": 26,
     "metadata": {},
     "output_type": "execute_result"
    }
   ],
   "source": [
    "sum(10, 20, 30) # 매개변수가 모두 있으면 기본값 대신 매개변수 값이 적용됨 "
   ]
  },
  {
   "cell_type": "code",
   "execution_count": 27,
   "id": "e2a60eaf-cfa2-49d7-9d4c-c52aebe316a2",
   "metadata": {},
   "outputs": [
    {
     "ename": "SyntaxError",
     "evalue": "parameter without a default follows parameter with a default (339554181.py, line 1)",
     "output_type": "error",
     "traceback": [
      "\u001b[1;36m  Cell \u001b[1;32mIn[27], line 1\u001b[1;36m\u001b[0m\n\u001b[1;33m    def sum2(a, b = 100, c):\u001b[0m\n\u001b[1;37m                         ^\u001b[0m\n\u001b[1;31mSyntaxError\u001b[0m\u001b[1;31m:\u001b[0m parameter without a default follows parameter with a default\n"
     ]
    }
   ],
   "source": [
    "def sum2(a, b = 100, c): # 기본값은 항상 마지막 매개변수부터 설정해야 함 \n",
    "    return a + b + c"
   ]
  },
  {
   "cell_type": "code",
   "execution_count": 30,
   "id": "0d6a1e57-b28c-4adf-a276-a3b0043b6212",
   "metadata": {},
   "outputs": [],
   "source": [
    "name = \"이이름\"\n",
    "\n",
    "def message(msg):\n",
    "    global name # 전역변수 name을 message 함수 지역 내에서 사용하겠다는 의미 \n",
    "    print(f\"{name}님 {msg}\")"
   ]
  },
  {
   "cell_type": "code",
   "execution_count": 32,
   "id": "09e337af-9eca-4bfc-ba7a-af6dd0e0436a",
   "metadata": {},
   "outputs": [
    {
     "name": "stdout",
     "output_type": "stream",
     "text": [
      "이이름님 안녕하세요\n"
     ]
    }
   ],
   "source": [
    "message(\"안녕하세요\")"
   ]
  },
  {
   "cell_type": "code",
   "execution_count": 34,
   "id": "f3320e9e-faee-4cf5-beef-52f2e9de5f6e",
   "metadata": {},
   "outputs": [
    {
     "name": "stdout",
     "output_type": "stream",
     "text": [
      "[2, 4, 6, 8, 10]\n"
     ]
    }
   ],
   "source": [
    "nums = [1, 2, 3, 4, 5, 6, 7, 8, 9, 10]\n",
    "\n",
    "# 짝수 판별 함수 - 사용자 정의 함수, 일회용으로 사용하는 경우가 많음\n",
    "def is_even(num): \n",
    "    return num % 2 == 0\n",
    "\n",
    "even = filter(is_even, nums) # 필터 메서드로 걸러주기\n",
    "even_nums = list(even) # 리스트 메서드로 리스트화 하기 \n",
    "print(even_nums)"
   ]
  },
  {
   "cell_type": "code",
   "execution_count": 36,
   "id": "92184ef5-4ff9-455b-a2c5-2f1746a7e88b",
   "metadata": {},
   "outputs": [
    {
     "name": "stdout",
     "output_type": "stream",
     "text": [
      "[2, 4, 6, 8, 10]\n"
     ]
    }
   ],
   "source": [
    "nums = [1, 2, 3, 4, 5, 6, 7, 8, 9, 10]\n",
    "is_evun = lambda x : x % 2 == 0 # 람다식으로 함수 정의\n",
    "even = list(filter(is_even, nums)) # 필터, 리스트 한번에 적용 \n",
    "print(even)"
   ]
  },
  {
   "cell_type": "code",
   "execution_count": 37,
   "id": "deb32026-d5c0-4f48-86b2-879f4c324802",
   "metadata": {},
   "outputs": [
    {
     "name": "stdout",
     "output_type": "stream",
     "text": [
      "[2, 4, 6, 8, 10]\n"
     ]
    }
   ],
   "source": [
    "nums = [1, 2, 3, 4, 5, 6, 7, 8, 9, 10]\n",
    "even = list(filter(lambda x : x % 2 == 0, nums)) # 람다식 더 간단하게 표기 \n",
    "print(even)"
   ]
  }
 ],
 "metadata": {
  "kernelspec": {
   "display_name": "Python 3 (ipykernel)",
   "language": "python",
   "name": "python3"
  },
  "language_info": {
   "codemirror_mode": {
    "name": "ipython",
    "version": 3
   },
   "file_extension": ".py",
   "mimetype": "text/x-python",
   "name": "python",
   "nbconvert_exporter": "python",
   "pygments_lexer": "ipython3",
   "version": "3.12.7"
  }
 },
 "nbformat": 4,
 "nbformat_minor": 5
}
