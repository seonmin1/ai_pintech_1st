{
 "cells": [
  {
   "cell_type": "code",
   "execution_count": 1,
   "id": "a2ea39b7-7d1e-43c4-9efa-74addc630e31",
   "metadata": {},
   "outputs": [
    {
     "name": "stdout",
     "output_type": "stream",
     "text": [
      "ABCDEFGHI\n"
     ]
    }
   ],
   "source": [
    "print(\"ABC\" + \"DEF\" + \"GHI\") # 문자열 결합 + 연산자, 문자열끼리만 가능 "
   ]
  },
  {
   "cell_type": "code",
   "execution_count": 2,
   "id": "3051fed1-633e-4bfe-8b14-dd22a41f0cb5",
   "metadata": {},
   "outputs": [
    {
     "name": "stdout",
     "output_type": "stream",
     "text": [
      "ABCDEFGHI\n"
     ]
    }
   ],
   "source": [
    "print(\"ABC\" \"DEF\" \"GHI\") # 문자열 결합, + 연산자 사용하지 않아도 결합해서 출력 가능 "
   ]
  },
  {
   "cell_type": "code",
   "execution_count": 3,
   "id": "8ab8433a-4daa-48c2-9a65-f72058502643",
   "metadata": {},
   "outputs": [
    {
     "name": "stdout",
     "output_type": "stream",
     "text": [
      "ABC DEF GHI\n"
     ]
    }
   ],
   "source": [
    "print(\"ABC\", \"DEF\", \"GHI\") # 문자열을 공백으로 띄어서 결합"
   ]
  },
  {
   "cell_type": "code",
   "execution_count": 4,
   "id": "d1baaa6c-05ae-472c-a4aa-4f3ef18bfafe",
   "metadata": {},
   "outputs": [
    {
     "name": "stdout",
     "output_type": "stream",
     "text": [
      "ABC\n",
      "DEF\n",
      "GHI\n"
     ]
    }
   ],
   "source": [
    "print(\"ABC\") # end : 기본값이 \\n\n",
    "print(\"DEF\")\n",
    "print(\"GHI\")"
   ]
  },
  {
   "cell_type": "code",
   "execution_count": 5,
   "id": "0ae3ac01-546f-4cf6-a367-b8a1875caaeb",
   "metadata": {},
   "outputs": [
    {
     "name": "stdout",
     "output_type": "stream",
     "text": [
      "ABC#DEF#GHI\n"
     ]
    }
   ],
   "source": [
    "print(\"ABC\", end = '#') # end 값 설정가능\n",
    "print(\"DEF\", end = '#')\n",
    "print(\"GHI\")"
   ]
  }
 ],
 "metadata": {
  "kernelspec": {
   "display_name": "Python 3 (ipykernel)",
   "language": "python",
   "name": "python3"
  },
  "language_info": {
   "codemirror_mode": {
    "name": "ipython",
    "version": 3
   },
   "file_extension": ".py",
   "mimetype": "text/x-python",
   "name": "python",
   "nbconvert_exporter": "python",
   "pygments_lexer": "ipython3",
   "version": "3.12.7"
  }
 },
 "nbformat": 4,
 "nbformat_minor": 5
}
