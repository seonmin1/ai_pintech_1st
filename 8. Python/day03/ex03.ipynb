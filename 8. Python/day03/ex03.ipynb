{
 "cells": [
  {
   "cell_type": "code",
   "execution_count": 5,
   "id": "93a18498-6ceb-4327-a46f-e0fb95a43cb7",
   "metadata": {},
   "outputs": [
    {
     "name": "stdout",
     "output_type": "stream",
     "text": [
      "사과 apple\n",
      "오렌지 orange\n",
      "멜론 melon\n",
      "망고 mango\n"
     ]
    }
   ],
   "source": [
    "fruits = [(\"사과\", \"apple\"), (\"오렌지\", \"orange\"), (\"멜론\", \"melon\"), (\"망고\", \"mango\")]\n",
    "\n",
    "for title, item in fruits: # tuple 형태로 사용, 소괄호 생략 가능 \n",
    "    print(title, item)\n",
    "    \n",
    "# for (title, item) in fruits:\n",
    "#    print(title, item)\n",
    "    \n",
    "# for item in fruits:\n",
    "#    print(item)"
   ]
  },
  {
   "cell_type": "code",
   "execution_count": 2,
   "id": "a9e17bec-f74e-44d6-99ce-88e67a369b7e",
   "metadata": {},
   "outputs": [
    {
     "name": "stdout",
     "output_type": "stream",
     "text": [
      "A\n",
      "B\n",
      "C\n"
     ]
    }
   ],
   "source": [
    "for item in \"ABC\":\n",
    "    print(item)"
   ]
  },
  {
   "cell_type": "code",
   "execution_count": 6,
   "id": "11dc4704-b849-462f-9407-67308f8d44c4",
   "metadata": {},
   "outputs": [
    {
     "name": "stdout",
     "output_type": "stream",
     "text": [
      "0 반복\n",
      "1 반복\n",
      "2 반복\n",
      "3 반복\n",
      "4 반복\n",
      "5 반복\n",
      "6 반복\n",
      "7 반복\n",
      "8 반복\n",
      "9 반복\n"
     ]
    }
   ],
   "source": [
    "for i in range(10): # 범위 - 0~9\n",
    "    print(i, \"반복\")"
   ]
  },
  {
   "cell_type": "code",
   "execution_count": 7,
   "id": "07b6d8e9-dce8-4386-8aa9-f0b24412f64b",
   "metadata": {},
   "outputs": [
    {
     "name": "stdout",
     "output_type": "stream",
     "text": [
      "1 반복\n",
      "2 반복\n",
      "3 반복\n",
      "4 반복\n",
      "5 반복\n",
      "6 반복\n",
      "7 반복\n",
      "8 반복\n",
      "9 반복\n",
      "10 반복\n"
     ]
    }
   ],
   "source": [
    "for i in range(1, 11): # 범위 - 1~10\n",
    "    print(i, \"반복\")"
   ]
  },
  {
   "cell_type": "code",
   "execution_count": 8,
   "id": "c80d9408-b87a-4c52-9489-c896c92112ba",
   "metadata": {},
   "outputs": [
    {
     "name": "stdout",
     "output_type": "stream",
     "text": [
      "1 반복\n",
      "3 반복\n",
      "5 반복\n",
      "7 반복\n",
      "9 반복\n"
     ]
    }
   ],
   "source": [
    "for i in range(1, 11, 2): # 1, 3, 5, 7, 9 (2씩 증가)\n",
    "    print(i, \"반복\")"
   ]
  },
  {
   "cell_type": "code",
   "execution_count": 10,
   "id": "2712b904-bf3d-4329-ac2f-53983472c9f7",
   "metadata": {},
   "outputs": [
    {
     "name": "stdout",
     "output_type": "stream",
     "text": [
      "------- 2단 -------\n",
      "2 X 1 = 2\n",
      "2 X 2 = 4\n",
      "2 X 3 = 6\n",
      "2 X 4 = 8\n",
      "2 X 5 = 10\n",
      "2 X 6 = 12\n",
      "2 X 7 = 14\n",
      "2 X 8 = 16\n",
      "2 X 9 = 18\n",
      "------- 3단 -------\n",
      "3 X 1 = 3\n",
      "3 X 2 = 6\n",
      "3 X 3 = 9\n",
      "3 X 4 = 12\n",
      "3 X 5 = 15\n",
      "3 X 6 = 18\n",
      "3 X 7 = 21\n",
      "3 X 8 = 24\n",
      "3 X 9 = 27\n",
      "------- 4단 -------\n",
      "4 X 1 = 4\n",
      "4 X 2 = 8\n",
      "4 X 3 = 12\n",
      "4 X 4 = 16\n",
      "4 X 5 = 20\n",
      "4 X 6 = 24\n",
      "4 X 7 = 28\n",
      "4 X 8 = 32\n",
      "4 X 9 = 36\n",
      "------- 5단 -------\n",
      "5 X 1 = 5\n",
      "5 X 2 = 10\n",
      "5 X 3 = 15\n",
      "5 X 4 = 20\n",
      "5 X 5 = 25\n",
      "5 X 6 = 30\n",
      "5 X 7 = 35\n",
      "5 X 8 = 40\n",
      "5 X 9 = 45\n",
      "------- 6단 -------\n",
      "6 X 1 = 6\n",
      "6 X 2 = 12\n",
      "6 X 3 = 18\n",
      "6 X 4 = 24\n",
      "6 X 5 = 30\n",
      "6 X 6 = 36\n",
      "6 X 7 = 42\n",
      "6 X 8 = 48\n",
      "6 X 9 = 54\n",
      "------- 7단 -------\n",
      "7 X 1 = 7\n",
      "7 X 2 = 14\n",
      "7 X 3 = 21\n",
      "7 X 4 = 28\n",
      "7 X 5 = 35\n",
      "7 X 6 = 42\n",
      "7 X 7 = 49\n",
      "7 X 8 = 56\n",
      "7 X 9 = 63\n",
      "------- 8단 -------\n",
      "8 X 1 = 8\n",
      "8 X 2 = 16\n",
      "8 X 3 = 24\n",
      "8 X 4 = 32\n",
      "8 X 5 = 40\n",
      "8 X 6 = 48\n",
      "8 X 7 = 56\n",
      "8 X 8 = 64\n",
      "8 X 9 = 72\n",
      "------- 9단 -------\n",
      "9 X 1 = 9\n",
      "9 X 2 = 18\n",
      "9 X 3 = 27\n",
      "9 X 4 = 36\n",
      "9 X 5 = 45\n",
      "9 X 6 = 54\n",
      "9 X 7 = 63\n",
      "9 X 8 = 72\n",
      "9 X 9 = 81\n"
     ]
    }
   ],
   "source": [
    "# 구구단 출력 - 중첩된 for문 예시 \n",
    "\n",
    "for i in range(2, 10): # 범위 - 2~9\n",
    "    print(\"------- %d단 -------\" % i)\n",
    "    for j in range(1, 10): # 범위 - 1~9\n",
    "        print(f\"{i} X {j} = {i * j}\")"
   ]
  },
  {
   "cell_type": "code",
   "execution_count": 11,
   "id": "5c33232d-4fcb-4616-8d5d-a15f13eb59df",
   "metadata": {},
   "outputs": [
    {
     "name": "stdout",
     "output_type": "stream",
     "text": [
      "[484, 361, 4, 25, 5929, 7396, 625]\n"
     ]
    }
   ],
   "source": [
    "nums = [22, 19, 2, 5, 77, 86, 25]\n",
    "result = []\n",
    "\n",
    "for i in nums:\n",
    "    result.append(i * i) # 제곱\n",
    "    \n",
    "print(result)"
   ]
  },
  {
   "cell_type": "code",
   "execution_count": 15,
   "id": "f120bb9e-a803-4b71-9ded-a6c3ba43d50d",
   "metadata": {},
   "outputs": [
    {
     "name": "stdout",
     "output_type": "stream",
     "text": [
      "[484, 4, 7396]\n"
     ]
    }
   ],
   "source": [
    "nums = [22, 19, 2, 5, 77, 86, 25]\n",
    "\n",
    "# 각 요소를 제곱해서 새로운 배열 만들기\n",
    "# result = [i * i for i in nums] # 리스트 컴프리헨션 문법 \n",
    "\n",
    "# 짝수만 제곱 (for문 뒤에 if 적용 가능)\n",
    "result = [i * i for i in nums if i %  2 == 0] \n",
    "\n",
    "print(result)"
   ]
  },
  {
   "cell_type": "code",
   "execution_count": 16,
   "id": "e3e47590-c4bb-4cea-a805-5d08a3837d57",
   "metadata": {},
   "outputs": [
    {
     "name": "stdout",
     "output_type": "stream",
     "text": [
      "[22, 66, 110, 154, 198, 44, 132, 220, 308, 396, 66, 198, 330, 462, 594, 88, 264, 440, 616, 792, 110, 330, 550, 770, 990]\n"
     ]
    }
   ],
   "source": [
    "nums1 = [1, 2, 3, 4, 5, 6, 7, 8, 9, 10]\n",
    "nums2 = [11, 22, 33, 44, 55, 66, 77, 88, 99, 100]\n",
    "\n",
    "# 두 배열의 요소를 각각 곱해 새로운 배열 만들기 \n",
    "# result = [i * j for i in nums1 \n",
    "#                for j in nums2] \n",
    "\n",
    "# nums1 배열의 짝수, num2 배열의 홀수만 곱해서 새로운 배열 만들기\n",
    "result = [i * j for i in nums1 if i % 2 == 0\n",
    "                for j in nums2 if j % 2 ==1] \n",
    "\n",
    "print(result)"
   ]
  }
 ],
 "metadata": {
  "kernelspec": {
   "display_name": "Python 3 (ipykernel)",
   "language": "python",
   "name": "python3"
  },
  "language_info": {
   "codemirror_mode": {
    "name": "ipython",
    "version": 3
   },
   "file_extension": ".py",
   "mimetype": "text/x-python",
   "name": "python",
   "nbconvert_exporter": "python",
   "pygments_lexer": "ipython3",
   "version": "3.12.7"
  }
 },
 "nbformat": 4,
 "nbformat_minor": 5
}
