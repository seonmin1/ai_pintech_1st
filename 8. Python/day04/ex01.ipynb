{
 "cells": [
  {
   "cell_type": "code",
   "execution_count": 3,
   "id": "9d3fbcd5-f1b9-4342-b2f2-360b7b4ca006",
   "metadata": {},
   "outputs": [],
   "source": [
    "f = open(\"D:/data.txt\", \"w\") # w - 쓰기, 지정된 경로에 파일이 없는 경우 새파일 하나 생성 \n",
    "for i in range(1, 11): # 1 ~ 10 - 10회 반복 \n",
    "    f.write(\"%d번 라인\\n\" % i)\n",
    "    \n",
    "f.close()"
   ]
  },
  {
   "cell_type": "code",
   "execution_count": 5,
   "id": "56cfbb80-3dd4-417e-80ab-e34ca1e154e2",
   "metadata": {},
   "outputs": [
    {
     "name": "stdout",
     "output_type": "stream",
     "text": [
      "1번 라인\n",
      "2번 라인\n",
      "3번 라인\n",
      "4번 라인\n",
      "5번 라인\n",
      "6번 라인\n",
      "7번 라인\n",
      "8번 라인\n",
      "9번 라인\n",
      "10번 라인\n",
      "\n"
     ]
    }
   ],
   "source": [
    "# 파일 읽기\n",
    "f = open(\"D:/data.txt\", \"r\")\n",
    "data = f.read()\n",
    "f.close()\n",
    "print(data)"
   ]
  },
  {
   "cell_type": "code",
   "execution_count": 8,
   "id": "003c3584-4c32-4c55-b9a7-88e03103621e",
   "metadata": {},
   "outputs": [
    {
     "name": "stdout",
     "output_type": "stream",
     "text": [
      "1번 라인\n",
      "2번 라인\n",
      "3번 라인\n",
      "4번 라인\n",
      "5번 라인\n",
      "6번 라인\n",
      "7번 라인\n",
      "8번 라인\n",
      "9번 라인\n",
      "10번 라인\n"
     ]
    }
   ],
   "source": [
    "# 한줄 한줄 읽기 - readline\n",
    "f = open(\"D:/data.txt\", \"r\")\n",
    "\n",
    "while True:\n",
    "    line = f.readline()\n",
    "    if not line: break\n",
    "    # print(line, end = '') # print와 line에 end의 기본값 \\n이 있음 (총 두번)\n",
    "    print(line.strip()) # 좌우 공백 제거 (\\n, \\s, \\t 포함)\n",
    "\n",
    "f.close()"
   ]
  },
  {
   "cell_type": "code",
   "execution_count": 9,
   "id": "b0919e4d-03d2-423d-b648-565b1cc1b9f9",
   "metadata": {},
   "outputs": [
    {
     "name": "stdout",
     "output_type": "stream",
     "text": [
      "1번 라인\n",
      "2번 라인\n",
      "3번 라인\n",
      "4번 라인\n",
      "5번 라인\n",
      "6번 라인\n",
      "7번 라인\n",
      "8번 라인\n",
      "9번 라인\n",
      "10번 라인\n"
     ]
    }
   ],
   "source": [
    "# 한꺼번에 읽어와서 한줄한줄 리스트로 반환 - readlines()\n",
    "f = open(\"D:/data.txt\", \"r\")\n",
    "lines = f.readlines()\n",
    "for line in lines:\n",
    "    print(line, end  = '')\n",
    "f.close()"
   ]
  },
  {
   "cell_type": "code",
   "execution_count": 10,
   "id": "7a667c9d-04a4-4632-bbb2-29666a7d4915",
   "metadata": {},
   "outputs": [
    {
     "name": "stdout",
     "output_type": "stream",
     "text": [
      "1번 라인\n",
      "2번 라인\n",
      "3번 라인\n",
      "4번 라인\n",
      "5번 라인\n",
      "6번 라인\n",
      "7번 라인\n",
      "8번 라인\n",
      "9번 라인\n",
      "10번 라인\n"
     ]
    }
   ],
   "source": [
    "# 더 많이 사용하는 방법 - readlines와 동일하게 출력! \n",
    "f = open(\"D:/data.txt\", \"r\")\n",
    "\n",
    "for line in f:\n",
    "    print(line, end = '')\n",
    "\n",
    "f.close()"
   ]
  },
  {
   "cell_type": "code",
   "execution_count": 13,
   "id": "a131dc1e-4596-4321-86e7-b1548fd2598f",
   "metadata": {},
   "outputs": [],
   "source": [
    "f = open(\"D:/log.txt\", \"a\") # a : append - 텍스트가 계속 끝에 추가\n",
    "f.write(\"로그3\\n\")\n",
    "f.write(\"로그4\\n\")\n",
    "f.close()"
   ]
  },
  {
   "cell_type": "code",
   "execution_count": 15,
   "id": "8d50cd2c-00ef-4061-92d2-b66e06d6d932",
   "metadata": {},
   "outputs": [],
   "source": [
    "# 자원 해제 자동화 - with 구문 \n",
    "with open(\"D:/data2.txt\", \"w\") as f:\n",
    "    f.write(\"테스트 텍스트...\")"
   ]
  }
 ],
 "metadata": {
  "kernelspec": {
   "display_name": "Python 3 (ipykernel)",
   "language": "python",
   "name": "python3"
  },
  "language_info": {
   "codemirror_mode": {
    "name": "ipython",
    "version": 3
   },
   "file_extension": ".py",
   "mimetype": "text/x-python",
   "name": "python",
   "nbconvert_exporter": "python",
   "pygments_lexer": "ipython3",
   "version": "3.12.7"
  }
 },
 "nbformat": 4,
 "nbformat_minor": 5
}
