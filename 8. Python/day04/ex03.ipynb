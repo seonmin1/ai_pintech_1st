{
 "cells": [
  {
   "cell_type": "code",
   "execution_count": 17,
   "id": "6978773e-1c74-40ff-9057-c4bc36894cda",
   "metadata": {},
   "outputs": [],
   "source": [
    "# Calculator 클래스 정의 \n",
    "class Calculator:\n",
    "    # Calculator() 호출 시 가장 먼저 호출되는 메서드 (초기화 메서드)\n",
    "    # 객체 변수 (인스턴스 변수) 초기화 작업을 주로 담당 \n",
    "\n",
    "    def __init__(self, a, b):\n",
    "        self.a = a\n",
    "        self.b = b\n",
    "    \n",
    "    # self : 객체 자원 중 객체 변수(인스턴스 변수)를 접근하기 위한 수단 \n",
    "    def add(self):\n",
    "        return self.a + self.b # 객체 변수 a, 객체 변수 b를 더한다 \n",
    "\n",
    "    def sub(self):\n",
    "        return self.a - self.b\n",
    "\n",
    "    def mul(self):\n",
    "        return self.a * self.b\n",
    "\n",
    "    def div(self):\n",
    "        return self.a / self.b"
   ]
  },
  {
   "cell_type": "code",
   "execution_count": 18,
   "id": "78993f51-4544-4ec4-b3c1-939c8ab7993a",
   "metadata": {},
   "outputs": [],
   "source": [
    "# 객체 생성 - cal = self\n",
    "# cal = Calculator()\n",
    "cal = Calculator(10, 20)"
   ]
  },
  {
   "cell_type": "code",
   "execution_count": 19,
   "id": "af261891-0270-4a1f-8024-4e5c63c80399",
   "metadata": {},
   "outputs": [
    {
     "data": {
      "text/plain": [
       "0.5"
      ]
     },
     "execution_count": 19,
     "metadata": {},
     "output_type": "execute_result"
    }
   ],
   "source": [
    "# cal.a = 10 # 객체 변수 (인스턴스 변수) - 객체 생성 후 직접 설정해서 사용 \n",
    "# cal.b = 20\n",
    "# Calculator.add(cal)\n",
    "cal.add()\n",
    "cal.sub()\n",
    "cal.mul()\n",
    "cal.div()"
   ]
  },
  {
   "cell_type": "code",
   "execution_count": 23,
   "id": "9c346f17-211a-47b6-880f-b89d2d9a3ee7",
   "metadata": {},
   "outputs": [],
   "source": [
    "class ProCalculator(Calculator): # 상속, ProCalculator - 자식, Calculator - 부모\n",
    "    def div(self): # Calculator에 정의된 div를 재정의, 메서드 재정의 \n",
    "        if self.b == 0:\n",
    "            return 0 # b가 0이면 종료\n",
    "\n",
    "        return self.a / self.b # 그렇지 않으면 나누기 실행 \n",
    "\n",
    "    def square(self, x): # 제곱 함수 정의 \n",
    "        return x ** 2"
   ]
  },
  {
   "cell_type": "code",
   "execution_count": 24,
   "id": "c88d6a35-09ab-4887-bc1c-a2b9d71ae6be",
   "metadata": {},
   "outputs": [
    {
     "data": {
      "text/plain": [
       "0"
      ]
     },
     "execution_count": 24,
     "metadata": {},
     "output_type": "execute_result"
    }
   ],
   "source": [
    "cal2 = ProCalculator(10, 0)\n",
    "cal2.div()"
   ]
  },
  {
   "cell_type": "code",
   "execution_count": 27,
   "id": "1d0675ed-f192-4c27-b83e-0468104c9421",
   "metadata": {},
   "outputs": [],
   "source": [
    "class Student:\n",
    "    def __init__(self, id, name, major):\n",
    "        self.id = id\n",
    "        self.name = name\n",
    "        self.major = major\n",
    "\n",
    "    \n",
    "    # 자바의 toString() 메서드와 유사!\n",
    "    def __str__(self):\n",
    "        return f'id={self.id}, name={self.name}, major={self.major}'"
   ]
  },
  {
   "cell_type": "code",
   "execution_count": 29,
   "id": "727a8b12-9483-4088-9ec7-a1d7759459ac",
   "metadata": {},
   "outputs": [
    {
     "name": "stdout",
     "output_type": "stream",
     "text": [
      "id=1000, name=이이름, major=파이썬\n"
     ]
    }
   ],
   "source": [
    "s1 = Student(1000, \"이이름\", \"파이썬\")\n",
    "print(s1) # __str__(self) 정의하지 않으면 값 대신 객체의 주소값이 출력됨 "
   ]
  },
  {
   "cell_type": "code",
   "execution_count": 34,
   "id": "9c9403cf-389a-4a2b-a984-34a9a68c00aa",
   "metadata": {},
   "outputs": [],
   "source": [
    "class Multiply:\n",
    "    def __init__(self, num):\n",
    "        self.num = num\n",
    "\n",
    "    # 객체의 참조 변수를 함수처럼 호출했을 때 실행 \n",
    "    def __call__(self, num):\n",
    "        return self.num * num # 제곱값 반환 \n",
    "\n",
    "    def __str__(self):\n",
    "        return str(self.num)"
   ]
  },
  {
   "cell_type": "code",
   "execution_count": 36,
   "id": "7c3904ad-624f-4462-b28d-7b5521fda7c8",
   "metadata": {},
   "outputs": [
    {
     "name": "stdout",
     "output_type": "stream",
     "text": [
      "200\n",
      "10\n"
     ]
    }
   ],
   "source": [
    "mul = Multiply(10) # __init__(self, num) 호출\n",
    "result = mul(20) # __call__(self, num) 호출 \n",
    "print(result)\n",
    "print(mul) # __str__(self) 호출 "
   ]
  },
  {
   "cell_type": "code",
   "execution_count": 40,
   "id": "47fe4c26-aef8-40c4-97de-008263e92804",
   "metadata": {},
   "outputs": [],
   "source": [
    "class Family:\n",
    "    lastname = '이' # 클래스 변수 (객체 생성 상관없이 접근 가능), self.변수 - 인스턴스 변수 (객체 생성 시 접근 가능)"
   ]
  },
  {
   "cell_type": "code",
   "execution_count": 38,
   "id": "3135bd2a-3d33-46bc-91aa-de5a9208464e",
   "metadata": {},
   "outputs": [],
   "source": [
    "# Family.lastname = '이' # 클래스 변수, 정적 변수, 다른 객체가 공유할 목적의 변수 "
   ]
  },
  {
   "cell_type": "code",
   "execution_count": 42,
   "id": "c13784ec-9684-4971-84c4-dc89a56c479e",
   "metadata": {},
   "outputs": [
    {
     "name": "stdout",
     "output_type": "stream",
     "text": [
      "f1: 김\n",
      "f2: 이\n"
     ]
    }
   ],
   "source": [
    "f1 = Family()\n",
    "f2 = Family()\n",
    "\n",
    "f1.lastname = '김' # 인스턴스 변수 (객체 변수)\n",
    "print(\"f1: %s\" % f1.lastname) # f1.lastname : 인스턴스 변수와 헷갈림, 클래스명으로 직접 접근! Family.lastname \n",
    "print(\"f2: %s\" % f2.lastname)"
   ]
  },
  {
   "cell_type": "code",
   "execution_count": 43,
   "id": "e69c3c1c-288a-4e5e-ae68-6ea42cae6c78",
   "metadata": {},
   "outputs": [],
   "source": [
    "class Bird:\n",
    "    def fly(self):\n",
    "        raise NotImplementedError # 예외를 발생시키는 예약어 - 메서드 재정의 강제!"
   ]
  },
  {
   "cell_type": "code",
   "execution_count": 46,
   "id": "8dcfd9ba-0e1a-4d4b-8718-583439dc7fdf",
   "metadata": {},
   "outputs": [],
   "source": [
    "class Eagle(Bird):\n",
    "    def fly(self): # 메서드 재정의 \n",
    "        print(\"독수리가 아주 빠르게 날아간다!\")"
   ]
  },
  {
   "cell_type": "code",
   "execution_count": 47,
   "id": "e96813b7-375d-4f8f-b28c-3e528ab5fca6",
   "metadata": {},
   "outputs": [
    {
     "name": "stdout",
     "output_type": "stream",
     "text": [
      "독수리가 아주 빠르게 날아간다!\n"
     ]
    }
   ],
   "source": [
    "e1 = Eagle()\n",
    "e1.fly()"
   ]
  }
 ],
 "metadata": {
  "kernelspec": {
   "display_name": "Python 3 (ipykernel)",
   "language": "python",
   "name": "python3"
  },
  "language_info": {
   "codemirror_mode": {
    "name": "ipython",
    "version": 3
   },
   "file_extension": ".py",
   "mimetype": "text/x-python",
   "name": "python",
   "nbconvert_exporter": "python",
   "pygments_lexer": "ipython3",
   "version": "3.12.7"
  }
 },
 "nbformat": 4,
 "nbformat_minor": 5
}
